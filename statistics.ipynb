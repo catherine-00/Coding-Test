{
 "cells": [
  {
   "cell_type": "markdown",
   "id": "a9e5bf98",
   "metadata": {},
   "source": [
    "# 1장. 자료의 정리방법"
   ]
  },
  {
   "cell_type": "markdown",
   "id": "2d3e00ce",
   "metadata": {},
   "source": [
    "## 1.1 서론\n",
    "- 추측통계학 (inferential statistics)\n",
    "    + 자료에 내포되어 있는 정보를 분석하여 불확실한 사실에 대한 추론을 하는 분야\n",
    "    + 통계적 모형을 설정하고, 설정된 모형이 합리적인지의 여부를 평가하며, 자료로부터 얻어지는 정보를 근거로 해 미지의 특성에 대한 결론을 내리고 미래에 일어날 현상에 대한 예측을 함.\n",
    "- 기술 통계학 (descriptive statistics)\n",
    "    + 자료를 수집하고 정리하여 도표나 표를 만들거나 자료를 요약하여 대표값이나 변동의 크기 등을 구하는 방법을 다루는 분야\n",
    "- 1장에서는 자료의 특징을 나타내는 방법을 다룸\n",
    "- 자료의 요약과 표현\n",
    "    + 도표나 그래프를 만든다\n",
    "    + 그래프화한 자료의 대칭성을 비롯한 전반적인 형태를 고찰\n",
    "    + 그래프에서 일반적인 측정값과 다른 이상점에 대해 고찰\n",
    "    + 대표값이나 산포도와 같은 수치적 측도를 계산"
   ]
  },
  {
   "cell_type": "markdown",
   "id": "e37b8bdb",
   "metadata": {},
   "source": [
    "## 1.2 모집단과 표본\n",
    "- 모집단(population)\n",
    "    + = 통계적 모집단(statistical population)\n",
    "    + 방대한 자료 중에서 일부를 추출하여 통계적 처리를 함. 이때 연구 대상이 되는 모든 가능한 관측값이나 측정값의 집합\n",
    "    + 유한 모집단(finite population) : 유한개의 추출단위를 가지는 모집단\n",
    "    + 무한 모집단(infinite population) : 무한개의 추출 단위를 가지는 모집단\n",
    "        + 모집단이 꼭 실존하는(수치가 명확한) 집합은 아니다. 두루뭉실할 수 있음.\n",
    "- 표본(sample)\n",
    "    + 모집단에서 실제로 추출한 관측값이나 측정값의 집합\n",
    "    + 추출단위(sampling unit)\n",
    "        + 모집단의 가능한 관측값이나 측정값이 얻어지는 개체\n",
    "- 예\n",
    "    + 어느 공정에서 생산되는 전구의 수명을 검사하고자 함\n",
    "    + 하나의 전구(하나의 전구 수명) => 추출단위\n",
    "    + 검사받기 위해 추출된 일부 전구의 수명 => 표본 형성\n",
    "    + 공정에서 생산되는 모든 전구의 수명 => 모집단\n"
   ]
  },
  {
   "cell_type": "markdown",
   "id": "3dec7504",
   "metadata": {},
   "source": [
    "## 1.3 자료의 형태와 변수의 종류\n",
    "- 자료 집합 (data set) : 전체 자료의 모임, 전체 표\n",
    "- 변수 (variable) : 자료들의 특성, column\n",
    "- 변수값 : 열에 속에 있는 값들, column values\n",
    "- 자료값 (data value) : 몇 행, 몇 열에 있는 값, 즉 표 한 칸에 들어 있는 값\n",
    "- 관측값 (observation) : 관측 대상이 되는 개인에 관한 자료값들의 모임, row values\n",
    "- 다변량 자료 (multivariate data) : 각 개체별로 한 개 이상의 변수가 관측된 경우의 자료\n",
    "- 일변량 자료 (univariate data) : 한 변수만을 다룰 경우의 자료\n",
    "    + 기초 통계학에서는 일변량자료 분석에 중점을 둠\n"
   ]
  },
  {
   "cell_type": "markdown",
   "id": "c599563a",
   "metadata": {},
   "source": [
    "### 1.3.1 자료의 형태\n",
    "자료의 형태에 따라 분석 방법이 결정된다.\n",
    "\n",
    "- 범주형 자료 (categorical data) : 범위로 분류할 수 있는\n",
    "    + 명목 자료 (nominal data) : 순위 개념 없음\n",
    "    + 순서 자료 (ordinal data) : 순위 개념 있음\n",
    "- 측정 자료 (measurement data) : (=연속 자료 (countinuous data)) 관측 대상이 되는 각 개체에 측정 단위를 이용한 측정값을 부여\n",
    "    + 계수 자료 (counting data) : 개수를 세어서 얻은 측정값들\n",
    "\n",
    "- 범주형 자료 & 계수 자료 => 이산 자료 (discrete data)\n",
    "\n",
    "- 도수분포표 (frequency table) : 수직선을 서로 겹치지 않는 소구간들로 나누어 각 소구간에 속하는 관측값의 개수를 그 범주(소구간)에 해당하는 관측값으로 가지는 표\n"
   ]
  },
  {
   "cell_type": "markdown",
   "id": "3e74319b",
   "metadata": {},
   "source": [
    "### 1.3.2 변수의 종류와 자료의 형태에 따른 분석방법\n",
    "- 종속 변수 (dependent variable ) : (= 반응 변수) 주요 관심 대상. 다른 변수에 의해 영향을 받는 변수\n",
    "- 독립 변수 (independent variable) : (= 설명 변수) 다른 변수에 영향을 주는 변수\n",
    "\n",
    "- 독립 변수\n",
    "    - 대부분 측정형 => 회귀분석\n",
    "    - 범주자료 => 분산분석\n",
    "    - 측정 자료 & 범주 자료 (혼합형) => 공분산분석, 가변수를 이용한 회귀분석\n"
   ]
  },
  {
   "cell_type": "markdown",
   "id": "39abeb3c",
   "metadata": {},
   "source": [
    "## 1.4 자료의 해석\n",
    "- 자료 양이 적을 때, 범주 자료일 때 => 점 그래프(dot graph) 또는 막대그래프(bar chart)\n",
    "- 자료 양이 많을 때 => 히스토그램(histogram)\n",
    "- 측정 자료, 자료 양이 많지 않을 때 => 줄기-잎-그림(stem-and-leaf diagram)"
   ]
  },
  {
   "cell_type": "markdown",
   "id": "ba16f460",
   "metadata": {},
   "source": [
    "### 1.4.1 점 그래프\n",
    "- 점 그래프 : 모든 자료를 수직선 위에 점으로 표시한 것\n"
   ]
  },
  {
   "cell_type": "markdown",
   "id": "a7572ddd",
   "metadata": {},
   "source": [
    "### 1.4.2 상대도수 막대그래프와 도수분포표\n",
    "- 도수 (frequency) : 자료의 형태가 이산형인 경우, 변수가 취할 수 있는 각 자료값이 나타나는 빈도를 셀 수 있다. 이를 도수라고 한다.\n",
    "- 상대도수 (relative frequency) : 도수를 전체 자료의 숫자 n으로 나눈 값\n",
    "- 도수분포 (frequency distribution) : 변수의 각 자료값의 도수 또는 상대도수를 나열해놓은 것.\n",
    "- 도수분포표 (frequency table) : 도수분포를 도표화 한 것. 도수 분포의 정보가 잘 요약되어 있다.\n",
    "- 상대도수 막대그래프 (relative frequency bar graph) : 범주형 자료의 도수분포 상황을 쉽게 알아보기 위해 각 자료값에 해당되는 수직선상의 점 위에 상대도수와 같은 높이의 직선을 그린 것\n",
    "    + 일반적으로 막대그래프를 그릴 때는 막대 사이를 띄워 그린다.\n",
    "\n",
    "-  \n"
   ]
  },
  {
   "cell_type": "markdown",
   "id": "4f8ae471",
   "metadata": {},
   "source": [
    "### 1.4.3 상대도수 히스토그램과 줄기-잎-그림"
   ]
  },
  {
   "cell_type": "markdown",
   "id": "84a29813",
   "metadata": {},
   "source": [
    "## 1.5 중심위치와 산포의 측도"
   ]
  },
  {
   "cell_type": "markdown",
   "id": "7e3c9026",
   "metadata": {},
   "source": [
    "### 1.5.1 대표값"
   ]
  },
  {
   "cell_type": "markdown",
   "id": "efa70a4f",
   "metadata": {},
   "source": [
    "### 1.5.2 산포도"
   ]
  },
  {
   "cell_type": "markdown",
   "id": "323054c0",
   "metadata": {},
   "source": [
    "### 1.5.3 상자그림"
   ]
  },
  {
   "cell_type": "markdown",
   "id": "736dbfcc",
   "metadata": {},
   "source": [
    "### 1.5.4 상관계수"
   ]
  },
  {
   "cell_type": "markdown",
   "id": "0305f820",
   "metadata": {},
   "source": [
    "## 1.6 집단화된 자료의 대표값과 산포도"
   ]
  },
  {
   "cell_type": "markdown",
   "id": "e5756ad3",
   "metadata": {},
   "source": [
    "## 연습문제"
   ]
  }
 ],
 "metadata": {
  "kernelspec": {
   "display_name": "Python 3",
   "language": "python",
   "name": "python3"
  },
  "language_info": {
   "name": "python",
   "version": "3.13.2"
  }
 },
 "nbformat": 4,
 "nbformat_minor": 5
}
