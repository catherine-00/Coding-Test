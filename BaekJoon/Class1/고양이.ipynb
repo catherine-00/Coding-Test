{
 "cells": [
  {
   "attachments": {
    "image.png": {
     "image/png": "[encoded data removed]"
    }
   },
   "cell_type": "markdown",
   "id": "166538f8",
   "metadata": {},
   "source": [
    "# 고양이\n",
    "- 문제 : 아래 예제와 같이 고양이를 출력하시오.\n",
    "- ![image.png](attachment:image.png)\n",
    "\n",
    " "
   ]
  },
  {
   "cell_type": "code",
   "execution_count": 14,
   "id": "51a4e784",
   "metadata": {},
   "outputs": [
    {
     "name": "stdout",
     "output_type": "stream",
     "text": [
      "\\    /\\\n",
      " )  ( ')\n",
      "(  /  )\n",
      " \\(__)|\n"
     ]
    }
   ],
   "source": [
    "print(\n",
    "    '''\n",
    "\\\\    /\\\\\n",
    " )  ( ')\n",
    "(  /  )\n",
    " \\\\(__)|\n",
    "    '''.strip())"
   ]
  },
  {
   "cell_type": "code",
   "execution_count": 15,
   "id": "1d6debd6",
   "metadata": {},
   "outputs": [
    {
     "name": "stdout",
     "output_type": "stream",
     "text": [
      "\\    /\\\n",
      " )  ( ')\n",
      "(  /  )\n",
      " \\(__)|\n"
     ]
    }
   ],
   "source": [
    "print(r'''\n",
    "\\    /\\\n",
    " )  ( ')\n",
    "(  /  )\n",
    " \\(__)|\n",
    "    '''.strip())"
   ]
  },
  {
   "cell_type": "markdown",
   "id": "2c9e79cf",
   "metadata": {},
   "source": [
    "- 틀렸다고 나옴. 왜?\n",
    "- ''' ''' 처럼 멀티라인 문자열을 사용할 경우 문자열 시작 전의 줄바꿈과 끝난 후의 줄바꿈이 그대로 포함됨.\n",
    "- 쓸거면 뒤에 .strip() 해줘야 공백 사라짐."
   ]
  },
  {
   "cell_type": "code",
   "execution_count": null,
   "id": "ceb19f54",
   "metadata": {},
   "outputs": [],
   "source": []
  }
 ],
 "metadata": {
  "kernelspec": {
   "display_name": "Python 3",
   "language": "python",
   "name": "python3"
  },
  "language_info": {
   "codemirror_mode": {
    "name": "ipython",
    "version": 3
   },
   "file_extension": ".py",
   "mimetype": "text/x-python",
   "name": "python",
   "nbconvert_exporter": "python",
   "pygments_lexer": "ipython3",
   "version": "3.13.2"
  }
 },
 "nbformat": 4,
 "nbformat_minor": 5
}
