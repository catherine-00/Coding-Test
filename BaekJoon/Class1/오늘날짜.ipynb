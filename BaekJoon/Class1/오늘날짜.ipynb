{
 "cells": [
  {
   "cell_type": "markdown",
   "id": "e5b99be5",
   "metadata": {},
   "source": [
    "### 서울의 오늘 날짜를 출력하는 프로그램을 작성하시오.(브론즈5)\n",
    "- 출력\n",
    "- 서울의 오늘 날짜를 \"YYYY-MM-DD\" 형식으로 출력한다.\n",
    "- 예제 출력 : 2015-01-24"
   ]
  },
  {
   "cell_type": "markdown",
   "id": "7936204f",
   "metadata": {},
   "source": [
    "# 날짜 관련 내장 라이브러리 활용하기.\n",
    "\n",
    "## 구성 클래스 요약\n",
    "\n",
    "- datetime.date : 날짜 정보만 (연, 월, 일)\n",
    "    + date.today() : 오늘 날짜 반환\n",
    "    + date(year, month, today) : 특정 날짜 생성\n",
    "    + .year, .month, .day : 각 날짜 속성 추출출\n",
    "- datetime.time : 시간 정보만 (시, 분, 초, 마이크로초)\n",
    "    + time(hour, min, sec) : 시간만 지정한 객체 생성\n",
    "    + .hour, .minute, .second : 속성 추출출\n",
    "- datetime.datetime : 날짜 + 시간 모두 포함\n",
    "    + datetime.now() : 현재 로컬 시간\n",
    "    + datetime.utcnow() : 현재 UTC 시간\n",
    "    + datetime.today() : 오늘 날짜/시간 (now와 거의 동일)\n",
    "    + datetiem.strptime(str,format) : 문자열 -> datetime\n",
    "    + strftime(format) : datetime - > 문자열\n",
    "    + astimezone(tz) : 시간대 변경경\n",
    "- datetime.timedelta : 시간 간격(차이)를 표현하는 객체\n",
    "- datetime.timezone : UTC 오프셋 기반 시간대\n",
    "- zoneinfo.ZoneInfo : 지역 이름 기반 시간대 (Python 3.9+)"
   ]
  },
  {
   "cell_type": "code",
   "execution_count": null,
   "id": "7f9b3965",
   "metadata": {},
   "outputs": [
    {
     "name": "stdout",
     "output_type": "stream",
     "text": [
      "2025-04-12\n"
     ]
    }
   ],
   "source": [
    "# 제출\n",
    "# date 클래스로 구현현\n",
    "from datetime import date\n",
    "print(date.today())"
   ]
  },
  {
   "cell_type": "code",
   "execution_count": null,
   "id": "56ab5575",
   "metadata": {},
   "outputs": [
    {
     "name": "stdout",
     "output_type": "stream",
     "text": [
      "2025-04-12\n"
     ]
    }
   ],
   "source": [
    "#datetime 클래스로 구현현\n",
    "from datetime import datetime\n",
    "date = datetime.today().strftime('%Y-%m-%d')\n",
    "print(date)"
   ]
  },
  {
   "cell_type": "code",
   "execution_count": null,
   "id": "dc241021",
   "metadata": {},
   "outputs": [
    {
     "name": "stdout",
     "output_type": "stream",
     "text": [
      "2025-04-12\n"
     ]
    }
   ],
   "source": [
    "# timezone\n",
    "from datetime import timezone\n",
    "utc = datetime.now(timezone.utc).strftime(\"%Y-%m-%d\")\n",
    "print(utc)"
   ]
  },
  {
   "cell_type": "code",
   "execution_count": null,
   "id": "1f3a146a",
   "metadata": {},
   "outputs": [],
   "source": []
  }
 ],
 "metadata": {
  "kernelspec": {
   "display_name": "Python 3",
   "language": "python",
   "name": "python3"
  },
  "language_info": {
   "codemirror_mode": {
    "name": "ipython",
    "version": 3
   },
   "file_extension": ".py",
   "mimetype": "text/x-python",
   "name": "python",
   "nbconvert_exporter": "python",
   "pygments_lexer": "ipython3",
   "version": "3.13.2"
  }
 },
 "nbformat": 4,
 "nbformat_minor": 5
}
