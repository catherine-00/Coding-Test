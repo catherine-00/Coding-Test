{
 "cells": [
  {
   "cell_type": "markdown",
   "id": "227c649e",
   "metadata": {},
   "source": [
    "# 윤년\n",
    "- 2735\n",
    "- 문제:\n",
    "연도가 주어졌을 때, 윤년이면 1, 아니면 0을 출력하는 프로그램을 작성하시오.\n",
    "\n",
    "윤년은 연도가 4의 배수이면서, 100의 배수가 아닐 때 또는 400의 배수일 때이다.\n",
    "\n",
    "예를 들어, 2012년은 4의 배수이면서 100의 배수가 아니라서 윤년이다. 1900년은 100의 배수이고 400의 배수는 아니기 때문에 윤년이 아니다. 하지만, 2000년은 400의 배수이기 때문에 윤년이다.\n",
    "\n",
    "- 입력 :\n",
    "    + 첫째 줄에 연도가 주어진다. 연도는 1보다 크거나 같고, 4000보다 작거나 같은 자연수이다.\n",
    "\n",
    "- 출력 :\n",
    "    + 첫째 줄에 윤년이면 1, 아니면 0을 출력한다"
   ]
  },
  {
   "cell_type": "code",
   "execution_count": 10,
   "id": "b9bf86cb",
   "metadata": {},
   "outputs": [
    {
     "name": "stdout",
     "output_type": "stream",
     "text": [
      "0\n"
     ]
    }
   ],
   "source": [
    "year = int(input())\n",
    "\n",
    "\n",
    "# 윤년 판단. 조건에 따라 맞으면 윤년(1) 틀리면 0\n",
    "def leap_year(year):\n",
    "    mul_4 = (year % 4 == 0)\n",
    "    mul_or = (year % 100 != 0) | (year % 400 == 0)\n",
    "    if (mul_4 and mul_or) :\n",
    "        print(1)\n",
    "    else :\n",
    "        print(0)\n",
    "\n",
    "# 연도가 1 <= year <= 4000 인지 판단. 맞으면 윤년 판단, 틀리면 pass\n",
    "if 1 <= year <= 4000 :\n",
    "    # 윤년 판단으로\n",
    "    leap_year(year)\n",
    "else : \n",
    "    pass\n",
    "\n"
   ]
  },
  {
   "cell_type": "code",
   "execution_count": 11,
   "id": "83d79ad3",
   "metadata": {},
   "outputs": [
    {
     "name": "stdout",
     "output_type": "stream",
     "text": [
      "1\n"
     ]
    }
   ],
   "source": [
    "def is_leap_year(year):\n",
    "    return year % 4 ==0 and (year % 100 != 0 or year % 400 == 0)\n",
    "\n",
    "def main():\n",
    "    year = int(input())\n",
    "\n",
    "    if 1 <= year <= 4000:\n",
    "        print(1 if is_leap_year(year) else 0)\n",
    "\n",
    "if __name__ == \"__main__\":\n",
    "    main()"
   ]
  },
  {
   "cell_type": "code",
   "execution_count": null,
   "id": "4ca6ba96",
   "metadata": {},
   "outputs": [],
   "source": []
  }
 ],
 "metadata": {
  "kernelspec": {
   "display_name": "Python 3",
   "language": "python",
   "name": "python3"
  },
  "language_info": {
   "codemirror_mode": {
    "name": "ipython",
    "version": 3
   },
   "file_extension": ".py",
   "mimetype": "text/x-python",
   "name": "python",
   "nbconvert_exporter": "python",
   "pygments_lexer": "ipython3",
   "version": "3.13.2"
  }
 },
 "nbformat": 4,
 "nbformat_minor": 5
}
