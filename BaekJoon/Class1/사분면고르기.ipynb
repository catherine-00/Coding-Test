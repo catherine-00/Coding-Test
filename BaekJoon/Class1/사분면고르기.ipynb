{
 "cells": [
  {
   "cell_type": "markdown",
   "id": "bf587343",
   "metadata": {},
   "source": [
    "# 사분면 고르기\n",
    "- 14681\n",
    "- 점의 좌표를 입력받아 그 점이 어느 사분면에 속하는지 알아내는 프로그램을 작성하시오. 단, x좌표와 y좌표는 모두 양수나 음수라고 가정한다.\n",
    "- 입력 :\n",
    "    + 첫 줄에는 정수 x가 주어진다. (−1000 ≤ x ≤ 1000; x ≠ 0) 다음 줄에는 정수 y가 주어진다. (−1000 ≤ y ≤ 1000; y ≠ 0)\n",
    "- 출력 :\n",
    "    + 점 (x, y)의 사분면 번호(1, 2, 3, 4 중 하나)를 출력한다.\n",
    "\n"
   ]
  },
  {
   "cell_type": "code",
   "execution_count": 12,
   "id": "a3ef534c",
   "metadata": {},
   "outputs": [],
   "source": [
    "x = int(input())\n",
    "y = int(input())\n",
    "\n",
    "range_x = ((-1000 <= x <= 1000) & (x !=0))\n",
    "range_y = ((-1000 <= y <= 1000) & (y !=0))\n",
    "\n",
    "if range_x and range_y :\n",
    "    if (0 < x) and (0 < y) :\n",
    "        print(1)\n",
    "    elif (0 > x) and (0 < y) :\n",
    "        print(2)\n",
    "    elif (0 > x) and (0 > y) :\n",
    "        print(3)\n",
    "    else :\n",
    "        print(4)\n",
    "\n",
    "\n",
    "    "
   ]
  },
  {
   "cell_type": "code",
   "execution_count": null,
   "id": "2ecc566c",
   "metadata": {},
   "outputs": [],
   "source": []
  }
 ],
 "metadata": {
  "kernelspec": {
   "display_name": "Python 3",
   "language": "python",
   "name": "python3"
  },
  "language_info": {
   "codemirror_mode": {
    "name": "ipython",
    "version": 3
   },
   "file_extension": ".py",
   "mimetype": "text/x-python",
   "name": "python",
   "nbconvert_exporter": "python",
   "pygments_lexer": "ipython3",
   "version": "3.13.2"
  }
 },
 "nbformat": 4,
 "nbformat_minor": 5
}
