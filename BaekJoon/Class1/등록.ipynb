{
 "cells": [
  {
   "cell_type": "markdown",
   "id": "0c63baf2",
   "metadata": {},
   "source": [
    "# 등록 (브론즈 5)\n",
    "- 문제 : 자신이 백준 온라인 저지(BOJ)에서 맞은 문제의 수와 아이디를 그대로 출력하는 프로그램을 작성하시오.\n",
    "- 출력 :\n",
    "- 첫 줄에 자신이 맞은 문제의 수, 둘째 줄에 아이디를 출력한다.\n",
    "- 예시:\n",
    "- 123\n",
    "- Your_ICPC_Team_Name"
   ]
  },
  {
   "cell_type": "code",
   "execution_count": null,
   "id": "3604ab5d",
   "metadata": {},
   "outputs": [],
   "source": [
    "# 페이지 정보를 끌고 오는 것x. 그냥 숫자 입력\n",
    "\n",
    "print(\"2\")\n",
    "print(\"catherine\")"
   ]
  }
 ],
 "metadata": {
  "kernelspec": {
   "display_name": "Python 3",
   "language": "python",
   "name": "python3"
  },
  "language_info": {
   "name": "python",
   "version": "3.13.2"
  }
 },
 "nbformat": 4,
 "nbformat_minor": 5
}
