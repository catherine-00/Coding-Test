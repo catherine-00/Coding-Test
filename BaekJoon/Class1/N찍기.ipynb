{
 "cells": [
  {
   "cell_type": "markdown",
   "id": "f8ca489c",
   "metadata": {},
   "source": [
    "# N 찍기\n",
    "- 2741\n",
    "- 자연수 N이 주어졌을 때, 1부터 N까지 한 줄에 하나씩 출력하는 프로그램을 작성하시오.\n",
    "- 입력 :\n",
    "    + 첫째 줄에 100,000보다 작거나 같은 자연수 N이 주어진다.\n",
    "- 출력 :\n",
    "    + 첫째 줄부터 N번째 줄 까지 차례대로 출력한다.\n",
    "\n"
   ]
  },
  {
   "cell_type": "code",
   "execution_count": 2,
   "id": "4d897267",
   "metadata": {},
   "outputs": [
    {
     "name": "stdout",
     "output_type": "stream",
     "text": [
      "1\n",
      "2\n",
      "3\n",
      "4\n",
      "5\n"
     ]
    }
   ],
   "source": [
    "num = int(input())\n",
    "if 0 < num <= 100000 :\n",
    "    for i in range(1,num+1):\n",
    "        print(i)"
   ]
  },
  {
   "cell_type": "code",
   "execution_count": null,
   "id": "6b876dd6",
   "metadata": {},
   "outputs": [],
   "source": []
  }
 ],
 "metadata": {
  "kernelspec": {
   "display_name": "Python 3",
   "language": "python",
   "name": "python3"
  },
  "language_info": {
   "codemirror_mode": {
    "name": "ipython",
    "version": 3
   },
   "file_extension": ".py",
   "mimetype": "text/x-python",
   "name": "python",
   "nbconvert_exporter": "python",
   "pygments_lexer": "ipython3",
   "version": "3.13.2"
  }
 },
 "nbformat": 4,
 "nbformat_minor": 5
}
