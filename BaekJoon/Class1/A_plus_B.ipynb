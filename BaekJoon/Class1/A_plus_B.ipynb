{
 "cells": [
  {
   "cell_type": "markdown",
   "id": "6ba3f7f4",
   "metadata": {},
   "source": [
    "# A+B (브론즈 5)\n",
    "- 두 정수 A와 B를 입력받은 다음, A+B를 출력하는 프로그램을 작성하시오.\n",
    "- 첫째 줄에 A와 B가 주어진다. (0 < A, B < 10)\n"
   ]
  },
  {
   "cell_type": "code",
   "execution_count": null,
   "id": "f34ee6bf",
   "metadata": {},
   "outputs": [],
   "source": [
    "s = input().replace(\" \",\"\")\n",
    "a,b = (int(x) for x in s)\n",
    "\n",
    "if (0 < a < 10 and 0 < b < 10) :\n",
    "    print(a+b)\n"
   ]
  },
  {
   "cell_type": "code",
   "execution_count": 18,
   "id": "aaa43b32",
   "metadata": {},
   "outputs": [
    {
     "name": "stdout",
     "output_type": "stream",
     "text": [
      "3\n"
     ]
    }
   ],
   "source": [
    "# map() 과 언패킹 사용\n",
    "a,b = map(int, input().replace(\" \",\"\"))\n",
    "if (0 < a < 10 and 0 < b < 10) :\n",
    "    print(a+b)"
   ]
  },
  {
   "cell_type": "code",
   "execution_count": 19,
   "id": "a4c0d4a4",
   "metadata": {},
   "outputs": [
    {
     "name": "stdout",
     "output_type": "stream",
     "text": [
      "3\n"
     ]
    }
   ],
   "source": [
    "# split() 사용\n",
    "a,b = map(int,input().split())\n",
    "if (0 < a < 10 and 0 < b < 10) :\n",
    "    print(a+b)"
   ]
  },
  {
   "cell_type": "code",
   "execution_count": null,
   "id": "6ba86d63",
   "metadata": {},
   "outputs": [],
   "source": [
    "# list 사용\n",
    "nums = list(map(int, input().replace(\" \", \"\")))\n",
    "a, b = nums\n",
    "if 0 < a < 10 and 0 < b < 10:\n",
    "    print(a + b)\n"
   ]
  }
 ],
 "metadata": {
  "kernelspec": {
   "display_name": "Python 3",
   "language": "python",
   "name": "python3"
  },
  "language_info": {
   "codemirror_mode": {
    "name": "ipython",
    "version": 3
   },
   "file_extension": ".py",
   "mimetype": "text/x-python",
   "name": "python",
   "nbconvert_exporter": "python",
   "pygments_lexer": "ipython3",
   "version": "3.13.2"
  }
 },
 "nbformat": 4,
 "nbformat_minor": 5
}
