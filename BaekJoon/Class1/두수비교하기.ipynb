{
 "cells": [
  {
   "cell_type": "markdown",
   "id": "732e3278",
   "metadata": {},
   "source": [
    "# 두 수 비교하기\n",
    "- 1330\n",
    "- 두 정수 A와 B가 주어졌을 때, A와 B를 비교하는 프로그램을 작성하시오.\n",
    "- 입력 : \n",
    "    + 첫째 줄에 A와 B가 주어진다. A와 B는 공백 한 칸으로 구분되어져 있다.\n",
    "- 출력 :\n",
    "    + 첫째 줄에 다음 세 가지 중 하나를 출력한다.\n",
    "    + A가 B보다 큰 경우에는 '>'를 출력한다.\n",
    "    + A가 B보다 작은 경우에는 '<'를 출력한다.\n",
    "    + A와 B가 같은 경우에는 '=='를 출력한다.\n",
    "\n",
    "- 제한 : \n",
    "    + -10,000 ≤ A, B ≤ 10,000\n"
   ]
  },
  {
   "cell_type": "code",
   "execution_count": null,
   "id": "8ea38277",
   "metadata": {},
   "outputs": [
    {
     "name": "stdout",
     "output_type": "stream",
     "text": [
      "==\n"
     ]
    }
   ],
   "source": [
    "a,b = map(int, input().split())\n",
    "\n",
    "if all( -10000 <= x <= 10000 for x in (a,b)):\n",
    "    if a > b :\n",
    "        print(\">\")\n",
    "    elif a < b :\n",
    "        print(\"<\")\n",
    "    else:\n",
    "        print('==')\n",
    "\n"
   ]
  },
  {
   "cell_type": "code",
   "execution_count": null,
   "id": "9557bd8b",
   "metadata": {},
   "outputs": [],
   "source": []
  },
  {
   "cell_type": "code",
   "execution_count": null,
   "id": "e233c3ba",
   "metadata": {},
   "outputs": [],
   "source": []
  }
 ],
 "metadata": {
  "kernelspec": {
   "display_name": "Python 3",
   "language": "python",
   "name": "python3"
  },
  "language_info": {
   "codemirror_mode": {
    "name": "ipython",
    "version": 3
   },
   "file_extension": ".py",
   "mimetype": "text/x-python",
   "name": "python",
   "nbconvert_exporter": "python",
   "pygments_lexer": "ipython3",
   "version": "3.13.2"
  }
 },
 "nbformat": 4,
 "nbformat_minor": 5
}
