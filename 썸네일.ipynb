{
 "cells": [
  {
   "cell_type": "code",
   "execution_count": 1,
   "id": "df6aa199",
   "metadata": {},
   "outputs": [
    {
     "name": "stdout",
     "output_type": "stream",
     "text": [
      "✅ 이미지가 생성되었습니다: [level 1] 역순 정렬하기 - 59035.png\n"
     ]
    }
   ],
   "source": [
    "from PIL import Image, ImageDraw, ImageFont\n",
    "\n",
    "# 사용자 입력\n",
    "site = str(input(\"사이트 : \").strip())\n",
    "title = str(input(\"제목 : \").strip())\n",
    "language = str(input(\"언어 :\").strip())\n",
    "\n",
    "\n",
    "text = (f\"{{{site}}}\\n{title}\\n[언어 : {language}]\")\n",
    "\n",
    "# 이미지 설정\n",
    "\n",
    "img_size = (800, 800)  # 1:1 비율\n",
    "background_color = (0, 0, 0)  # 검정\n",
    "text_color = (0, 255, 255)  # #00ffff\n",
    "font_size = 50\n",
    "line_spacing = 20\n",
    "\n",
    "# 이미지 생성\n",
    "img = Image.new(\"RGB\", img_size, background_color)\n",
    "draw = ImageDraw.Draw(img)\n",
    "\n",
    "# 폰트 로딩 (한글 출력 문제 없도록 시스템 폰트 사용 권장)\n",
    "# ✅ 한글 폰트 사용 (Windows 기준)\n",
    "font_path = \"C:/Windows/Fonts/malgun.ttf\"  # 또는 NanumGothic.ttf, batang.ttc 등\n",
    "font = ImageFont.truetype(font_path, font_size)\n",
    "\n",
    "\n",
    "# 텍스트 줄 단위로 크기 측정\n",
    "lines = text.split('\\n')\n",
    "max_width = 0\n",
    "total_height = 0\n",
    "line_heights = []\n",
    "\n",
    "for line in lines:\n",
    "    bbox = draw.textbbox((0, 0), line, font=font)\n",
    "    width = bbox[2] - bbox[0]\n",
    "    height = bbox[3] - bbox[1]\n",
    "    max_width = max(max_width, width)\n",
    "    total_height += height + line_spacing\n",
    "    line_heights.append(height)\n",
    "total_height -= line_spacing  # 마지막 줄 간격 제거\n",
    "\n",
    "# 중앙 위치 계산\n",
    "x = (img_size[0] - max_width) / 2\n",
    "y = (img_size[1] - total_height) / 2\n",
    "\n",
    "# 텍스트 그리기\n",
    "for i, line in enumerate(lines):\n",
    "    draw.text((x, y), line, fill=text_color, font=font)\n",
    "    y += line_heights[i] + line_spacing\n",
    "\n",
    "# 저장\n",
    "img.save(f\"{title}.png\")\n",
    "print(f\"✅ 이미지가 생성되었습니다: {title}.png\" )\n"
   ]
  },
  {
   "cell_type": "code",
   "execution_count": null,
   "id": "40b39d87",
   "metadata": {},
   "outputs": [],
   "source": []
  }
 ],
 "metadata": {
  "kernelspec": {
   "display_name": ".venv",
   "language": "python",
   "name": "python3"
  },
  "language_info": {
   "codemirror_mode": {
    "name": "ipython",
    "version": 3
   },
   "file_extension": ".py",
   "mimetype": "text/x-python",
   "name": "python",
   "nbconvert_exporter": "python",
   "pygments_lexer": "ipython3",
   "version": "3.11.12"
  }
 },
 "nbformat": 4,
 "nbformat_minor": 5
}
