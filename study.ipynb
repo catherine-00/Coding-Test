{
 "cells": [
  {
   "cell_type": "code",
   "execution_count": null,
   "id": "f63633a8",
   "metadata": {},
   "outputs": [],
   "source": [
    "import sys\n",
    "# 첫째 줄에 주어진 N, M 값 입력받기.\n",
    "N,M = map(int,sys.stdin.readline().strip().split())\n",
    "\n",
    "# A에 행렬 만들기\n",
    "A = []\n",
    "for i in range(N):\n",
    "    a = list(map(int,sys.stdin.readline().strip().split())) #한 줄씩 입력 받기.\n",
    "    A.append(a)\n",
    "    # A = [[0,0,0],[0,0,0],[0,0,0]]\n",
    "\n",
    "# B에 행렬 만들기\n",
    "B = []\n",
    "for i in range(N):\n",
    "    b = list(map(int,sys.stdin.readline().strip().split())) #한 줄씩 입력 받기.\n",
    "    B.append(b)\n",
    "    # B = [[0,0,0],[0,0,0],[0,0,0]]\n",
    "    # 반복 횟수가 N으로 정해져 있기 때문에 마지막에 받는 빈 입력값을 처리해줄 필요가 없음.\n",
    "\n",
    "print(f\"A : \\n{A}\") \n",
    "print(f\"B : \\n{B}\")\n",
    "\n"
   ]
  },
  {
   "cell_type": "code",
   "execution_count": null,
   "id": "cafd9653",
   "metadata": {},
   "outputs": [],
   "source": [
    "# A,B 더한 결과값인 C행렬 만들기\n",
    "C = []\n",
    "for n in range(N):\n",
    "    l = [] # 행 한줄\n",
    "    for m in range(M):\n",
    "        l.append(A[n][m] + B[n][m]) # 한 행의 열끼리 덧셈.\n",
    "    C.append(l) # 만든 한 행을 C 행렬에 넣기\n",
    "\n",
    "for i in C:\n",
    "    for j in i:\n",
    "        print(j, end=' ')\n",
    "    print()"
   ]
  }
 ],
 "metadata": {
  "kernelspec": {
   "display_name": "Python 3",
   "language": "python",
   "name": "python3"
  },
  "language_info": {
   "codemirror_mode": {
    "name": "ipython",
    "version": 3
   },
   "file_extension": ".py",
   "mimetype": "text/x-python",
   "name": "python",
   "nbconvert_exporter": "python",
   "pygments_lexer": "ipython3",
   "version": "3.13.2"
  }
 },
 "nbformat": 4,
 "nbformat_minor": 5
}
