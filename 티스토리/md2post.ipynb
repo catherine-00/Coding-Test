{
 "cells": [
  {
   "cell_type": "code",
   "execution_count": null,
   "id": "72447104",
   "metadata": {},
   "outputs": [],
   "source": []
  },
  {
   "cell_type": "code",
   "execution_count": 4,
   "id": "d9ed2fa4",
   "metadata": {},
   "outputs": [
    {
     "name": "stdout",
     "output_type": "stream",
     "text": [
      "✅ HTML 파일이 생성되었습니다: output.html\n"
     ]
    }
   ],
   "source": [
    "import os\n",
    "import markdown\n",
    "import time\n",
    "# 현재 시간을 밀리초 단위로 가져오기 (JavaScript의 Date.now()처럼)\n",
    "code_id = f\"code_{int(time.time() * 1000)}\"\n",
    "\n",
    "def convert_files_to_html(readme_path, sql_path, output_path=f\"output.html\"):\n",
    "    # README.md 읽기 및 마크다운 -> HTML 변환\n",
    "    with open(readme_path, 'r', encoding='utf-8') as f:\n",
    "        lines = f.readlines()\n",
    "\n",
    "        # 원하는 줄만 선택 (인덱스는 0부터 시작하므로 주의)\n",
    "        selected_lines = []\n",
    "        if len(lines) >= 1:\n",
    "            selected_lines.append(lines[0])  # 1번째 줄\n",
    "        if len(lines) >= 3:\n",
    "            selected_lines.append(lines[2])  # 3번째 줄\n",
    "        if len(lines) >= 21:\n",
    "            selected_lines.extend(lines[20:])  # 21번째 줄부터 마지막 줄까지\n",
    "\n",
    "        # 선택된 줄들을 하나의 문자열로 합치고 마크다운 파싱\n",
    "        readme_content = ''.join(selected_lines)\n",
    "        readme_html = markdown.markdown(readme_content)\n",
    "\n",
    "\n",
    "    # SQL 파일 읽기 및 HTML 코드블럭 처리\n",
    "    with open(sql_path, 'r', encoding='utf-8') as f:\n",
    "        sql_content = f.read()\n",
    "        sql_html = f\"<h2>SQL Code</h2>\\n<pre id=\\\"{code_id}\\\" class=\\\"sql\\\" data-ke-language=\\\"sql\\\" data-ke-type=\\\"codeblock\\\"><code>{sql_content}</code></pre>\"\n",
    "\n",
    "    # 전체 HTML 구성\n",
    "    full_html = f\"\"\"<!DOCTYPE html>\n",
    "    <html lang=\"en\">\n",
    "    <head>\n",
    "    <meta charset=\"UTF-8\">\n",
    "    <title>README and SQL Viewer</title>\n",
    "    <style>\n",
    "        body {{\n",
    "            font-family: Arial, sans-serif;\n",
    "            margin: 40px;\n",
    "            line-height: 1.6;\n",
    "        }}\n",
    "        pre {{\n",
    "            background-color: #f4f4f4;\n",
    "            padding: 10px;\n",
    "            border-radius: 5px;\n",
    "            overflow-x: auto;\n",
    "        }}\n",
    "        code {{\n",
    "            font-family: Consolas, monospace;\n",
    "        }}\n",
    "    </style>\n",
    "    </head>\n",
    "    <body>\n",
    "    <div class='markdown-body'>\n",
    "    \n",
    "    {readme_html}\n",
    "    <hr>\n",
    "    <br>\n",
    "    <br>\n",
    "    {sql_html}\n",
    "    </div>\n",
    "    </body>\n",
    "    </html>\n",
    "    \"\"\"\n",
    "\n",
    "    # HTML 저장\n",
    "    with open(output_path, 'w', encoding='utf-8') as f:\n",
    "        f.write(full_html)\n",
    "\n",
    "    print(f\"✅ HTML 파일이 생성되었습니다: {output_path}\")\n",
    "\n",
    "\n",
    "# 예시 실행 (직접 경로를 입력해 주세요)\n",
    "if __name__ == \"__main__\":\n",
    "    readme_path = input(\"test.md\").strip()\n",
    "    sql_path = input(\"test.sql\").strip()\n",
    "    convert_files_to_html(readme_path, sql_path)\n"
   ]
  },
  {
   "cell_type": "code",
   "execution_count": null,
   "id": "9fbcf1fc",
   "metadata": {},
   "outputs": [],
   "source": []
  }
 ],
 "metadata": {
  "kernelspec": {
   "display_name": "venv",
   "language": "python",
   "name": "python3"
  },
  "language_info": {
   "codemirror_mode": {
    "name": "ipython",
    "version": 3
   },
   "file_extension": ".py",
   "mimetype": "text/x-python",
   "name": "python",
   "nbconvert_exporter": "python",
   "pygments_lexer": "ipython3",
   "version": "3.13.2"
  }
 },
 "nbformat": 4,
 "nbformat_minor": 5
}
