{
 "cells": [
  {
   "cell_type": "code",
   "execution_count": null,
   "id": "72447104",
   "metadata": {},
   "outputs": [],
   "source": []
  },
  {
   "cell_type": "code",
   "execution_count": 1,
   "id": "d9ed2fa4",
   "metadata": {},
   "outputs": [
    {
     "name": "stdout",
     "output_type": "stream",
     "text": [
      "✅ HTML 파일이 생성되었습니다: output.html\n"
     ]
    }
   ],
   "source": [
    "import os\n",
    "import markdown\n",
    "\n",
    "def convert_files_to_html(readme_path, sql_path, output_path=\"output.html\"):\n",
    "    # README.md 읽기 및 마크다운 -> HTML 변환\n",
    "    with open(readme_path, 'r', encoding='utf-8') as f:\n",
    "        readme_content = f.read()\n",
    "        readme_html = markdown.markdown(readme_content)\n",
    "\n",
    "    # SQL 파일 읽기 및 HTML 코드블럭 처리\n",
    "    with open(sql_path, 'r', encoding='utf-8') as f:\n",
    "        sql_content = f.read()\n",
    "        sql_html = f\"<h2>SQL Code</h2>\\n<pre><code>{sql_content}</code></pre>\"\n",
    "\n",
    "    # 전체 HTML 구성\n",
    "    full_html = f\"\"\"<!DOCTYPE html>\n",
    "<html lang=\"en\">\n",
    "<head>\n",
    "    <meta charset=\"UTF-8\">\n",
    "    <title>README and SQL Viewer</title>\n",
    "    <style>\n",
    "        body {{\n",
    "            font-family: Arial, sans-serif;\n",
    "            margin: 40px;\n",
    "            line-height: 1.6;\n",
    "        }}\n",
    "        pre {{\n",
    "            background-color: #f4f4f4;\n",
    "            padding: 10px;\n",
    "            border-radius: 5px;\n",
    "            overflow-x: auto;\n",
    "        }}\n",
    "        code {{\n",
    "            font-family: Consolas, monospace;\n",
    "        }}\n",
    "    </style>\n",
    "</head>\n",
    "<body>\n",
    "    {readme_html}\n",
    "    <hr>\n",
    "    {sql_html}\n",
    "</body>\n",
    "</html>\n",
    "\"\"\"\n",
    "\n",
    "    # HTML 저장\n",
    "    with open(output_path, 'w', encoding='utf-8') as f:\n",
    "        f.write(full_html)\n",
    "\n",
    "    print(f\"✅ HTML 파일이 생성되었습니다: {output_path}\")\n",
    "\n",
    "\n",
    "# 예시 실행 (직접 경로를 입력해 주세요)\n",
    "if __name__ == \"__main__\":\n",
    "    readme_path = input(\"test.md\").strip()\n",
    "    sql_path = input(\"test.sql\").strip()\n",
    "    convert_files_to_html(readme_path, sql_path)\n"
   ]
  },
  {
   "cell_type": "code",
   "execution_count": null,
   "id": "9fbcf1fc",
   "metadata": {},
   "outputs": [],
   "source": []
  }
 ],
 "metadata": {
  "kernelspec": {
   "display_name": "venv",
   "language": "python",
   "name": "python3"
  },
  "language_info": {
   "codemirror_mode": {
    "name": "ipython",
    "version": 3
   },
   "file_extension": ".py",
   "mimetype": "text/x-python",
   "name": "python",
   "nbconvert_exporter": "python",
   "pygments_lexer": "ipython3",
   "version": "3.13.2"
  }
 },
 "nbformat": 4,
 "nbformat_minor": 5
}
