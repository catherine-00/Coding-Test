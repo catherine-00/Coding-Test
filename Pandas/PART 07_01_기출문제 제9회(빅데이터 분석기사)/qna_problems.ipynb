{
 "cells": [
  {
   "cell_type": "markdown",
   "metadata": {
    "id": "JHnoUvGogcJF"
   },
   "source": [
    ">**기출문제 제9회**\n",
    ">>**03 작업형 제3유형**"
   ]
  },
  {
   "cell_type": "markdown",
   "metadata": {},
   "source": [
    "# 문제 1. \n",
    "- 직원들의 주요 생산성 요인 분석 (다중회귀)\n",
    "- Data 정보\n",
    "  + id : 데이터의 고유 식별자\n",
    "  + tenure : 사용 기간\n",
    "  + f2 : 고객의 두 번째 특성\n",
    "  + f3 : 고객의 세 번째 특성\n",
    "  + f4 : 고객의 네 번째 특성\n",
    "  + f5 : 고객의 다섯 번째 특성\n",
    "  + design : 생산성 점수 (종속변수)\n",
    "- 모든 컬럼을 활용하여 design을 예측하는 다중회귀 분석을 시행한 후 유의하지 않은 설명변수 개수를 구하시오. "
   ]
  },
  {
   "cell_type": "code",
   "execution_count": 3,
   "metadata": {
    "executionInfo": {
     "elapsed": 128,
     "status": "ok",
     "timestamp": 1741853505429,
     "user": {
      "displayName": "제쥬감귤",
      "userId": "17148962602000500758"
     },
     "user_tz": -540
    },
    "id": "6LHs9qg-jwqx"
   },
   "outputs": [],
   "source": [
    "import pandas as pd\n",
    "df = pd.read_csv('9_3_1.csv')\n",
    "train = df[df['id'] <= 140]\n",
    "test = df[df['id'] > 140]"
   ]
  },
  {
   "cell_type": "code",
   "execution_count": 15,
   "metadata": {
    "executionInfo": {
     "elapsed": 1120,
     "status": "ok",
     "timestamp": 1741853512268,
     "user": {
      "displayName": "제쥬감귤",
      "userId": "17148962602000500758"
     },
     "user_tz": -540
    },
    "id": "vb-LzHTqj0hI"
   },
   "outputs": [],
   "source": [
    "# 라이브러리\n",
    "formula = # 코드\n",
    "model = # 코드"
   ]
  },
  {
   "cell_type": "markdown",
   "metadata": {},
   "source": [
    "- 훈련 데이터(학습용) 데이터의 예측값과 실제값의 피어슨 상관계수를 구하시오. "
   ]
  },
  {
   "cell_type": "code",
   "execution_count": 7,
   "metadata": {
    "colab": {
     "base_uri": "https://localhost:8080/"
    },
    "executionInfo": {
     "elapsed": 128,
     "status": "ok",
     "timestamp": 1741853531401,
     "user": {
      "displayName": "제쥬감귤",
      "userId": "17148962602000500758"
     },
     "user_tz": -540
    },
    "id": "4we4KOYVj435",
    "outputId": "f6d7e61f-699d-4eae-81ab-b9037f5e11ef"
   },
   "outputs": [
    {
     "name": "stdout",
     "output_type": "stream",
     "text": [
      "상관계수: 0.914750154303963\n"
     ]
    }
   ],
   "source": [
    "y_pred = model.predict(train) # 예측값을 구하는 코드\n",
    "y_real = train['design'] # 실제값을 구하는 코드\n",
    "\n",
    "# 코드"
   ]
  },
  {
   "cell_type": "code",
   "execution_count": 8,
   "metadata": {
    "colab": {
     "base_uri": "https://localhost:8080/"
    },
    "executionInfo": {
     "elapsed": 17,
     "status": "ok",
     "timestamp": 1741853537862,
     "user": {
      "displayName": "제쥬감귤",
      "userId": "17148962602000500758"
     },
     "user_tz": -540
    },
    "id": "pKAWrYFMj6rx",
    "outputId": "ea283854-a66c-489c-e820-873bcd652179"
   },
   "outputs": [
    {
     "name": "stdout",
     "output_type": "stream",
     "text": [
      "상관계수: 0.9147501543039636\n"
     ]
    }
   ],
   "source": [
    "# 코드 "
   ]
  },
  {
   "cell_type": "markdown",
   "metadata": {},
   "source": [
    "# 문제 2. \n",
    "- 한 통신 회사에서는 고객 이탈을 줄이고자 주요 요인들을 분석하기로 결정하였다.\n",
    "- Data 정보\n",
    "  + col1 : 고객의 첫 번째 특성\n",
    "  + col2 : 고객의 두 번째 특성\n",
    "  + Phone_Service : 폰 서비스 가입 여부\n",
    "  + Tech_Insurance : 기술 보험 가입 여부\n",
    "  + churn : 이탈 여부"
   ]
  },
  {
   "cell_type": "code",
   "execution_count": 18,
   "metadata": {
    "executionInfo": {
     "elapsed": 102,
     "status": "ok",
     "timestamp": 1741853554473,
     "user": {
      "displayName": "제쥬감귤",
      "userId": "17148962602000500758"
     },
     "user_tz": -540
    },
    "id": "GyzweFhlj_Hx"
   },
   "outputs": [],
   "source": [
    "import numpy as np\n",
    "df = pd.read_csv('9_3_2.csv')"
   ]
  },
  {
   "cell_type": "code",
   "execution_count": 19,
   "metadata": {
    "colab": {
     "base_uri": "https://localhost:8080/"
    },
    "executionInfo": {
     "elapsed": 51,
     "status": "ok",
     "timestamp": 1741853559281,
     "user": {
      "displayName": "제쥬감귤",
      "userId": "17148962602000500758"
     },
     "user_tz": -540
    },
    "id": "FX2Dg9VdkAVB",
    "outputId": "8a7fe63e-128e-4e36-9dca-808ae49b3a4a"
   },
   "outputs": [
    {
     "name": "stdout",
     "output_type": "stream",
     "text": [
      "Optimization terminated successfully.\n",
      "         Current function value: 0.640721\n",
      "         Iterations 5\n"
     ]
    }
   ],
   "source": [
    "# 코드\n",
    "formula = # 코드\n",
    "model = # 코드"
   ]
  },
  {
   "cell_type": "markdown",
   "metadata": {},
   "source": [
    "- 고객 이탈을 예측하는 로지스틱 회귀를 시행한 후 col1 칼럼의 p-value를 구하시오."
   ]
  },
  {
   "cell_type": "code",
   "execution_count": 12,
   "metadata": {
    "colab": {
     "base_uri": "https://localhost:8080/"
    },
    "executionInfo": {
     "elapsed": 18,
     "status": "ok",
     "timestamp": 1741853568038,
     "user": {
      "displayName": "제쥬감귤",
      "userId": "17148962602000500758"
     },
     "user_tz": -540
    },
    "id": "eUgfCTikkCRB",
    "outputId": "75d2692c-ab98-4071-f8b1-6a28dc7fbc4c"
   },
   "outputs": [
    {
     "name": "stdout",
     "output_type": "stream",
     "text": [
      "col1의 p-value: 0.0\n"
     ]
    }
   ],
   "source": [
    "# 코드"
   ]
  },
  {
   "cell_type": "markdown",
   "metadata": {},
   "source": [
    "- 폰 서비스를 받지 않은 고객 대비 받은 고객의 이탈 확률 오즈비를 구하시오. "
   ]
  },
  {
   "cell_type": "code",
   "execution_count": 13,
   "metadata": {
    "colab": {
     "base_uri": "https://localhost:8080/"
    },
    "executionInfo": {
     "elapsed": 5,
     "status": "ok",
     "timestamp": 1741853574154,
     "user": {
      "displayName": "제쥬감귤",
      "userId": "17148962602000500758"
     },
     "user_tz": -540
    },
    "id": "vhbflBuukD9B",
    "outputId": "dcf1d6ea-0ec9-4950-8b54-c2891b4baa95"
   },
   "outputs": [
    {
     "name": "stdout",
     "output_type": "stream",
     "text": [
      "Phone_Service의 오즈비: 1.867\n"
     ]
    }
   ],
   "source": [
    "# 코드"
   ]
  }
 ],
 "metadata": {
  "colab": {
   "authorship_tag": "ABX9TyOtWrQcShNgNl+6yBEd27EO",
   "provenance": []
  },
  "kernelspec": {
   "display_name": "Python 3 (ipykernel)",
   "language": "python",
   "name": "python3"
  },
  "language_info": {
   "codemirror_mode": {
    "name": "ipython",
    "version": 3
   },
   "file_extension": ".py",
   "mimetype": "text/x-python",
   "name": "python",
   "nbconvert_exporter": "python",
   "pygments_lexer": "ipython3",
   "version": "3.11.6"
  }
 },
 "nbformat": 4,
 "nbformat_minor": 4
}
