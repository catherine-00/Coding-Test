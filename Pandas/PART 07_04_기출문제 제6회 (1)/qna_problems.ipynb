{
 "cells": [
  {
   "cell_type": "markdown",
   "metadata": {
    "id": "msx1aL9oCAyB"
   },
   "source": [
    ">**기출문제 제6회**\n",
    ">>**03 작업형 제3유형**"
   ]
  },
  {
   "cell_type": "markdown",
   "metadata": {},
   "source": [
    "# 문제 1. \n",
    "- K-S 검정을 통해 업무 수행 시간이 정규분포를 따르는지 검정하고자 한다.\n",
    "- 직원들의 업무 수행 시간의 평균과 표준편차를 구하시오. (소수점 셋째 자리까지 반올림)"
   ]
  },
  {
   "cell_type": "code",
   "execution_count": 5,
   "metadata": {
    "executionInfo": {
     "elapsed": 540,
     "status": "ok",
     "timestamp": 1741911775626,
     "user": {
      "displayName": "제쥬감귤",
      "userId": "17148962602000500758"
     },
     "user_tz": -540
    },
    "id": "aODwDph9CD8u"
   },
   "outputs": [],
   "source": [
    "import pandas as pd\n",
    "data = pd.read_csv('6_3_1.csv')"
   ]
  },
  {
   "cell_type": "code",
   "execution_count": 6,
   "metadata": {
    "colab": {
     "base_uri": "https://localhost:8080/"
    },
    "executionInfo": {
     "elapsed": 12,
     "status": "ok",
     "timestamp": 1741911785781,
     "user": {
      "displayName": "제쥬감귤",
      "userId": "17148962602000500758"
     },
     "user_tz": -540
    },
    "id": "3J-lPaMrCGj-",
    "outputId": "c0909d43-c473-47e9-b323-731a8dc81c14"
   },
   "outputs": [
    {
     "name": "stdout",
     "output_type": "stream",
     "text": [
      "업무 수행 시간 평균: 8.09\n",
      "업무 수행 시간 표준편차: 1.519\n"
     ]
    }
   ],
   "source": [
    "# 코드"
   ]
  },
  {
   "cell_type": "markdown",
   "metadata": {},
   "source": [
    "- 직원들의 업무 수행 시간이 정규분포를 따르는지 K-S 검정을 실시하고, 검정통계량을 계산하시오. (소수점 셋째 자리까지 반올림)"
   ]
  },
  {
   "cell_type": "code",
   "execution_count": 7,
   "metadata": {
    "colab": {
     "base_uri": "https://localhost:8080/"
    },
    "executionInfo": {
     "elapsed": 44,
     "status": "ok",
     "timestamp": 1741911794638,
     "user": {
      "displayName": "제쥬감귤",
      "userId": "17148962602000500758"
     },
     "user_tz": -540
    },
    "id": "FiW0FFauCJfu",
    "outputId": "c89d8ef7-0e6b-443e-b354-7d0eddd86dcf"
   },
   "outputs": [
    {
     "name": "stdout",
     "output_type": "stream",
     "text": [
      "K-S 검정통계량: 0.064\n",
      "p-value: 0.778\n"
     ]
    }
   ],
   "source": [
    "from scipy.stats import kstest \n",
    "# 코드"
   ]
  },
  {
   "cell_type": "markdown",
   "metadata": {},
   "source": [
    "- p-value를 바탕으로 `유의수준 5%`에서 귀무가설의 기각/채택 여부를 결정하시오. (p-value는 소수점 셋째 자리까지 반올림)"
   ]
  },
  {
   "cell_type": "code",
   "execution_count": 8,
   "metadata": {
    "colab": {
     "base_uri": "https://localhost:8080/"
    },
    "executionInfo": {
     "elapsed": 4,
     "status": "ok",
     "timestamp": 1741911806727,
     "user": {
      "displayName": "제쥬감귤",
      "userId": "17148962602000500758"
     },
     "user_tz": -540
    },
    "id": "g10jWFkyCLP_",
    "outputId": "40e32a5b-3c70-4ca9-c211-40f0af217a56"
   },
   "outputs": [
    {
     "name": "stdout",
     "output_type": "stream",
     "text": [
      "채택\n"
     ]
    }
   ],
   "source": [
    "# 코드"
   ]
  },
  {
   "cell_type": "markdown",
   "metadata": {},
   "source": [
    "# 문제 2. \n",
    "- 주택 가격을 종속 변수로 하고, 면적, 방의 개수, 연식을 독립 변수로 하는 다중회귀 분석을 수행하여, 회귀계수가 가장 높은 변수를 구하시오. (다중회귀모형 적합 시 절편 포함)\n",
    "- 유의수준 5% 하에서 각 독립 변수가 주택 가격에 미치는 영향이 통계적으로 유의미한지 판단하고 유의미한 변수 개수를 구하시오. "
   ]
  },
  {
   "cell_type": "code",
   "execution_count": 9,
   "metadata": {
    "executionInfo": {
     "elapsed": 175,
     "status": "ok",
     "timestamp": 1741911814554,
     "user": {
      "displayName": "제쥬감귤",
      "userId": "17148962602000500758"
     },
     "user_tz": -540
    },
    "id": "ipcBAwtQCOyW"
   },
   "outputs": [],
   "source": [
    "import pandas as pd\n",
    "data = pd.read_csv('6_3_2.csv')"
   ]
  },
  {
   "cell_type": "code",
   "execution_count": 10,
   "metadata": {
    "executionInfo": {
     "elapsed": 2729,
     "status": "ok",
     "timestamp": 1741911833869,
     "user": {
      "displayName": "제쥬감귤",
      "userId": "17148962602000500758"
     },
     "user_tz": -540
    },
    "id": "uRb71jZBCQiy"
   },
   "outputs": [],
   "source": [
    "# 코드"
   ]
  },
  {
   "cell_type": "code",
   "execution_count": 11,
   "metadata": {
    "colab": {
     "base_uri": "https://localhost:8080/"
    },
    "executionInfo": {
     "elapsed": 12,
     "status": "ok",
     "timestamp": 1741911839356,
     "user": {
      "displayName": "제쥬감귤",
      "userId": "17148962602000500758"
     },
     "user_tz": -540
    },
    "id": "ZeCYey1hCUaP",
    "outputId": "e340aa6b-b1a9-4494-ed3d-d1ac33f4cad9"
   },
   "outputs": [
    {
     "name": "stdout",
     "output_type": "stream",
     "text": [
      "회귀계수가 가장 큰 변수: rooms\n"
     ]
    }
   ],
   "source": [
    "# 코드"
   ]
  },
  {
   "cell_type": "code",
   "execution_count": 12,
   "metadata": {
    "colab": {
     "base_uri": "https://localhost:8080/"
    },
    "executionInfo": {
     "elapsed": 3,
     "status": "ok",
     "timestamp": 1741911846728,
     "user": {
      "displayName": "제쥬감귤",
      "userId": "17148962602000500758"
     },
     "user_tz": -540
    },
    "id": "R3TUOMqnCWj1",
    "outputId": "eb7a990c-0524-4fc9-f729-2bc2d7f8c71d"
   },
   "outputs": [
    {
     "name": "stdout",
     "output_type": "stream",
     "text": [
      "유의미한 변수 개수: 4\n"
     ]
    }
   ],
   "source": [
    "# 코드"
   ]
  }
 ],
 "metadata": {
  "colab": {
   "authorship_tag": "ABX9TyMMZP/7tg5eJGVAem/ghPv2",
   "provenance": []
  },
  "kernelspec": {
   "display_name": "Python 3 (ipykernel)",
   "language": "python",
   "name": "python3"
  },
  "language_info": {
   "codemirror_mode": {
    "name": "ipython",
    "version": 3
   },
   "file_extension": ".py",
   "mimetype": "text/x-python",
   "name": "python",
   "nbconvert_exporter": "python",
   "pygments_lexer": "ipython3",
   "version": "3.9.22"
  }
 },
 "nbformat": 4,
 "nbformat_minor": 4
}
