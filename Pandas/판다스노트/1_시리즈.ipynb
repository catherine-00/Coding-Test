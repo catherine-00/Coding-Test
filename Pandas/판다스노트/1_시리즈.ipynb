{
 "cells": [
  {
   "cell_type": "markdown",
   "id": "98dcc4eb",
   "metadata": {},
   "source": [
    "\n",
    "# 판다스의 대표적인 자료구조 2가지\n",
    "- 시리즈(Series)\n",
    "- 데이터프레임(Dataframe)"
   ]
  },
  {
   "cell_type": "markdown",
   "id": "bf0ace18",
   "metadata": {},
   "source": [
    "## 시리즈(Series)\n",
    "- 1차원 배열\n",
    "- 데이터를 담는 차원 배열 구조\n",
    "- 인덱스 사용 가능\n",
    "- 데이터 타입을 가짐 (dtype)\n"
   ]
  },
  {
   "cell_type": "markdown",
   "id": "2a112de1",
   "metadata": {},
   "source": [
    "### 시리즈 생성"
   ]
  },
  {
   "cell_type": "code",
   "execution_count": 2,
   "id": "19e77db6",
   "metadata": {},
   "outputs": [],
   "source": [
    "\n",
    "import numpy as np\n",
    "import pandas as pd"
   ]
  },
  {
   "cell_type": "code",
   "execution_count": null,
   "id": "b586a594",
   "metadata": {},
   "outputs": [
    {
     "data": {
      "text/plain": [
       "0    100\n",
       "1    101\n",
       "2    102\n",
       "3    103\n",
       "4    104\n",
       "dtype: int64"
      ]
     },
     "execution_count": 8,
     "metadata": {},
     "output_type": "execute_result"
    }
   ],
   "source": [
    "# numpy array로 생성\n",
    "arr = np.arange(100,105)\n",
    "arr   # array([100, 101, 102, 103, 104])\n",
    "s = pd.Series(arr)\n",
    "s\n",
    "\n",
    "# 각 요소가 세로로 들어간다."
   ]
  },
  {
   "cell_type": "code",
   "execution_count": null,
   "id": "b6285589",
   "metadata": {},
   "outputs": [
    {
     "data": {
      "text/plain": [
       "0    부장\n",
       "1    차장\n",
       "2    대리\n",
       "3    사원\n",
       "4    인턴\n",
       "dtype: object"
      ]
     },
     "execution_count": 10,
     "metadata": {},
     "output_type": "execute_result"
    }
   ],
   "source": [
    "# 리스트로도 가능능\n",
    "s = pd.Series(['부장', '차장', '대리', '사원', '인턴'])\n",
    "s\n"
   ]
  },
  {
   "cell_type": "code",
   "execution_count": 11,
   "id": "4c187318",
   "metadata": {},
   "outputs": [
    {
     "data": {
      "text/plain": [
       "RangeIndex(start=0, stop=5, step=1)"
      ]
     },
     "execution_count": 11,
     "metadata": {},
     "output_type": "execute_result"
    }
   ],
   "source": [
    "# 시리즈 생성 시 순차적으로 부여되는 index를 확인할 수 있다.\n",
    "# 이를 RangeIndex라고 부른다.\n",
    "s.index"
   ]
  },
  {
   "cell_type": "code",
   "execution_count": 12,
   "id": "ca2bcacf",
   "metadata": {},
   "outputs": [
    {
     "data": {
      "text/plain": [
       "'부장'"
      ]
     },
     "execution_count": 12,
     "metadata": {},
     "output_type": "execute_result"
    }
   ],
   "source": [
    "s[0]"
   ]
  },
  {
   "cell_type": "code",
   "execution_count": null,
   "id": "d393fc19",
   "metadata": {},
   "outputs": [
    {
     "data": {
      "text/plain": [
       "1    차장\n",
       "3    사원\n",
       "dtype: object"
      ]
     },
     "execution_count": 13,
     "metadata": {},
     "output_type": "execute_result"
    }
   ],
   "source": [
    "# fancy indexing\n",
    "# 리스트 안에 지정한 인덱스 번호에 해당하는 것들 출력\n",
    "# s[ [리스트] ]\n",
    "s[[1,3]]"
   ]
  },
  {
   "cell_type": "code",
   "execution_count": null,
   "id": "5c19a90d",
   "metadata": {},
   "outputs": [
    {
     "data": {
      "text/plain": [
       "0    12732\n",
       "1    19845\n",
       "2    13264\n",
       "3    14859\n",
       "4    19225\n",
       "5    17891\n",
       "6    14373\n",
       "7    15874\n",
       "8    16744\n",
       "9    13468\n",
       "dtype: int32"
      ]
     },
     "execution_count": 14,
     "metadata": {},
     "output_type": "execute_result"
    }
   ],
   "source": [
    "# boolean indexing\n",
    "# 조건식을 만들어서 특정 조건에 대하여 True에 해당하는 값만 필터링 가능\n",
    "\n",
    "# 랜덤 생성\n",
    "np.random.seed(0) # 랜덤 결과를 고정시킴(항상 같은 난수 생성)\n",
    "s = pd.Series(np.random.randint(10000,20000, size = (10,))) # 10000이상 20000미만 정수 10개 무작위 생성성\n",
    "s"
   ]
  },
  {
   "cell_type": "code",
   "execution_count": null,
   "id": "02693727",
   "metadata": {},
   "outputs": [
    {
     "data": {
      "text/plain": [
       "0    False\n",
       "1     True\n",
       "2    False\n",
       "3    False\n",
       "4     True\n",
       "5     True\n",
       "6    False\n",
       "7     True\n",
       "8     True\n",
       "9    False\n",
       "dtype: bool"
      ]
     },
     "execution_count": 15,
     "metadata": {},
     "output_type": "execute_result"
    }
   ],
   "source": [
    "#  index 를 이용해 필터링\n",
    "s > 15000 # 15000 이상인 value들 True 로 표시시\n"
   ]
  },
  {
   "cell_type": "code",
   "execution_count": null,
   "id": "d5f3ef9b",
   "metadata": {},
   "outputs": [
    {
     "data": {
      "text/plain": [
       "1    19845\n",
       "4    19225\n",
       "5    17891\n",
       "7    15874\n",
       "8    16744\n",
       "dtype: int32"
      ]
     },
     "execution_count": 16,
     "metadata": {},
     "output_type": "execute_result"
    }
   ],
   "source": [
    "s[s>15000] \n",
    "#s[value 조건 필터링 후 True인 것들만]\n",
    "# 즉 s[True]"
   ]
  },
  {
   "cell_type": "code",
   "execution_count": 18,
   "id": "17c32c4b",
   "metadata": {},
   "outputs": [
    {
     "data": {
      "text/plain": [
       "a    마케팅\n",
       "b     경영\n",
       "c     개발\n",
       "d     기획\n",
       "e     인사\n",
       "dtype: object"
      ]
     },
     "execution_count": 18,
     "metadata": {},
     "output_type": "execute_result"
    }
   ],
   "source": [
    "# 인덱스를 직접 정의 가능\n",
    "# pd.Series([value],index=[index])\n",
    "s = pd.Series(\n",
    "    ['마케팅', '경영', '개발', '기획', '인사'],\n",
    "    index = ['a', 'b', 'c', 'd', 'e']\n",
    "    )\n",
    "s"
   ]
  },
  {
   "cell_type": "code",
   "execution_count": 19,
   "id": "875124fd",
   "metadata": {},
   "outputs": [
    {
     "data": {
      "text/plain": [
       "Index(['a', 'b', 'c', 'd', 'e'], dtype='object')"
      ]
     },
     "execution_count": 19,
     "metadata": {},
     "output_type": "execute_result"
    }
   ],
   "source": [
    "s.index #.index : 인덱스 값들만 모아보기"
   ]
  },
  {
   "cell_type": "code",
   "execution_count": 23,
   "id": "62946bfb",
   "metadata": {},
   "outputs": [
    {
     "data": {
      "text/plain": [
       "0    마케팅\n",
       "1     경영\n",
       "2     개발\n",
       "3     기획\n",
       "4     인사\n",
       "dtype: object"
      ]
     },
     "execution_count": 23,
     "metadata": {},
     "output_type": "execute_result"
    }
   ],
   "source": [
    "# 시리즈를 생성한 후에 index 속성 값에 새로운 index를 할당해서 인덱스를 교체할수도 있다.\n",
    "s = pd.Series(['마케팅', '경영', '개발', '기획', '인사'])\n",
    "s\n"
   ]
  },
  {
   "cell_type": "code",
   "execution_count": 22,
   "id": "a613646c",
   "metadata": {},
   "outputs": [
    {
     "data": {
      "text/plain": [
       "a    마케팅\n",
       "b     경영\n",
       "c     개발\n",
       "d     기획\n",
       "e     인사\n",
       "dtype: object"
      ]
     },
     "execution_count": 22,
     "metadata": {},
     "output_type": "execute_result"
    }
   ],
   "source": [
    "s.index = list('abcde') # 반복가능한 객체\n",
    "s"
   ]
  },
  {
   "cell_type": "markdown",
   "id": "c2e3e4c5",
   "metadata": {},
   "source": [
    "### 속성(attribute)"
   ]
  },
  {
   "cell_type": "code",
   "execution_count": null,
   "id": "c9425612",
   "metadata": {},
   "outputs": [
    {
     "data": {
      "text/plain": [
       "array(['마케팅', '경영', '개발', '기획', '인사'], dtype=object)"
      ]
     },
     "execution_count": 24,
     "metadata": {},
     "output_type": "execute_result"
    }
   ],
   "source": [
    "# values\n",
    "# .index : index값을 numpy array 형식으로 가져옴\n",
    "# .values : value 값을 numpy array 형식으로 가져옴옴\n",
    "s.values"
   ]
  },
  {
   "cell_type": "markdown",
   "id": "b7d4226f",
   "metadata": {},
   "source": [
    "### ndim - 차원"
   ]
  },
  {
   "cell_type": "code",
   "execution_count": 25,
   "id": "6f8b3b48",
   "metadata": {},
   "outputs": [
    {
     "data": {
      "text/plain": [
       "1"
      ]
     },
     "execution_count": 25,
     "metadata": {},
     "output_type": "execute_result"
    }
   ],
   "source": [
    "# 시리즈는 1차원 자료구조이기 때문에 출력시 1이 출력됨\n",
    "s.ndim"
   ]
  },
  {
   "cell_type": "markdown",
   "id": "18e741ba",
   "metadata": {},
   "source": [
    "### shape\n",
    "- shape은 데이터의 모양을 알아보기 위해 사용\n",
    "- 시리즈의 shape은 데이터의 개수를 나타냄\n"
   ]
  },
  {
   "cell_type": "code",
   "execution_count": 26,
   "id": "3063c06e",
   "metadata": {},
   "outputs": [
    {
     "data": {
      "text/plain": [
       "(5,)"
      ]
     },
     "execution_count": 26,
     "metadata": {},
     "output_type": "execute_result"
    }
   ],
   "source": [
    "s.shape"
   ]
  },
  {
   "cell_type": "markdown",
   "id": "ab51675b",
   "metadata": {},
   "source": [
    "### NaN (Not a Number)\n",
    "- 판다스에서 NaN값은 결측치 데이터를 의미한다.\n",
    "- 임의로 비어있는 값을 대입하고자 할 때는 numpy의 nan(np.nan)을 입력"
   ]
  },
  {
   "cell_type": "code",
   "execution_count": 27,
   "id": "d8c8d478",
   "metadata": {},
   "outputs": [
    {
     "data": {
      "text/plain": [
       "0     선화\n",
       "1     강호\n",
       "2    NaN\n",
       "3     소정\n",
       "4     우영\n",
       "dtype: object"
      ]
     },
     "execution_count": 27,
     "metadata": {},
     "output_type": "execute_result"
    }
   ],
   "source": [
    "s = pd.Series(['선화', '강호', np.nan, '소정', '우영'])\n",
    "s\n"
   ]
  },
  {
   "cell_type": "markdown",
   "id": "d124e731",
   "metadata": {},
   "source": [
    "### 결측치 (NaN) 값 처리\n",
    "- isnull()\n",
    "- isna()\n"
   ]
  },
  {
   "cell_type": "code",
   "execution_count": 28,
   "id": "bebd70cc",
   "metadata": {},
   "outputs": [
    {
     "data": {
      "text/plain": [
       "0    False\n",
       "1    False\n",
       "2     True\n",
       "3    False\n",
       "4    False\n",
       "dtype: bool"
      ]
     },
     "execution_count": 28,
     "metadata": {},
     "output_type": "execute_result"
    }
   ],
   "source": [
    "s.isnull()"
   ]
  },
  {
   "cell_type": "code",
   "execution_count": 29,
   "id": "350eeec5",
   "metadata": {},
   "outputs": [
    {
     "data": {
      "text/plain": [
       "2    NaN\n",
       "dtype: object"
      ]
     },
     "execution_count": 29,
     "metadata": {},
     "output_type": "execute_result"
    }
   ],
   "source": [
    "# boolean indexing에 적용 가능\n",
    "s[s.isnull()]"
   ]
  },
  {
   "cell_type": "markdown",
   "id": "7f14ec2e",
   "metadata": {},
   "source": [
    "### 결측치가 아닌 값 처리\n",
    "- notnull()\n",
    "- notna()"
   ]
  },
  {
   "cell_type": "code",
   "execution_count": 30,
   "id": "03be4ced",
   "metadata": {},
   "outputs": [
    {
     "data": {
      "text/plain": [
       "0     True\n",
       "1     True\n",
       "2    False\n",
       "3     True\n",
       "4     True\n",
       "dtype: bool"
      ]
     },
     "execution_count": 30,
     "metadata": {},
     "output_type": "execute_result"
    }
   ],
   "source": [
    "# 결측치 x 인 값들\n",
    "s.notnull()"
   ]
  },
  {
   "cell_type": "code",
   "execution_count": 31,
   "id": "f53939bc",
   "metadata": {},
   "outputs": [
    {
     "data": {
      "text/plain": [
       "0    선화\n",
       "1    강호\n",
       "3    소정\n",
       "4    우영\n",
       "dtype: object"
      ]
     },
     "execution_count": 31,
     "metadata": {},
     "output_type": "execute_result"
    }
   ],
   "source": [
    "s[s.notna()]"
   ]
  },
  {
   "cell_type": "markdown",
   "id": "38cb174f",
   "metadata": {},
   "source": [
    "### 슬라이싱\n",
    "- 파이썬이랑 똑같음"
   ]
  },
  {
   "cell_type": "code",
   "execution_count": 32,
   "id": "6fb0bae1",
   "metadata": {},
   "outputs": [
    {
     "data": {
      "text/plain": [
       "0    100\n",
       "1    110\n",
       "2    120\n",
       "3    130\n",
       "4    140\n",
       "dtype: int64"
      ]
     },
     "execution_count": 32,
     "metadata": {},
     "output_type": "execute_result"
    }
   ],
   "source": [
    "s = pd.Series(np.arange(100, 150, 10))\n",
    "s\n"
   ]
  },
  {
   "cell_type": "code",
   "execution_count": 33,
   "id": "597ba8c0",
   "metadata": {},
   "outputs": [
    {
     "data": {
      "text/plain": [
       "1    110\n",
       "2    120\n",
       "dtype: int64"
      ]
     },
     "execution_count": 33,
     "metadata": {},
     "output_type": "execute_result"
    }
   ],
   "source": [
    "s[1:3]"
   ]
  },
  {
   "cell_type": "code",
   "execution_count": 35,
   "id": "3a786805",
   "metadata": {},
   "outputs": [
    {
     "data": {
      "text/plain": [
       "가    100\n",
       "나    110\n",
       "다    120\n",
       "라    130\n",
       "마    140\n",
       "dtype: int64"
      ]
     },
     "execution_count": 35,
     "metadata": {},
     "output_type": "execute_result"
    }
   ],
   "source": [
    "# 만약 사용자가 임의로 index를 새로 지정했으면\n",
    "# 슬라이싱할 때 끝 index도 모두 포함한다\n",
    "s.index = list('가나다라마')\n",
    "s"
   ]
  },
  {
   "cell_type": "code",
   "execution_count": 36,
   "id": "22910a4a",
   "metadata": {},
   "outputs": [
    {
     "data": {
      "text/plain": [
       "나    110\n",
       "다    120\n",
       "라    130\n",
       "dtype: int64"
      ]
     },
     "execution_count": 36,
     "metadata": {},
     "output_type": "execute_result"
    }
   ],
   "source": [
    "s['나':'라']"
   ]
  },
  {
   "cell_type": "code",
   "execution_count": null,
   "id": "b7ed84ae",
   "metadata": {},
   "outputs": [],
   "source": []
  }
 ],
 "metadata": {
  "kernelspec": {
   "display_name": "Python 3",
   "language": "python",
   "name": "python3"
  },
  "language_info": {
   "codemirror_mode": {
    "name": "ipython",
    "version": 3
   },
   "file_extension": ".py",
   "mimetype": "text/x-python",
   "name": "python",
   "nbconvert_exporter": "python",
   "pygments_lexer": "ipython3",
   "version": "3.13.2"
  }
 },
 "nbformat": 4,
 "nbformat_minor": 5
}
