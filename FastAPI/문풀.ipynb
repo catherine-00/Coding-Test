{
 "cells": [
  {
   "cell_type": "code",
   "execution_count": 7,
   "id": "2c8877fe",
   "metadata": {},
   "outputs": [
    {
     "name": "stdout",
     "output_type": "stream",
     "text": [
      "True\n",
      "False\n",
      "안녕하세요, 저는 파이썬대학교의 컴퓨터공학과 학생 홍길동입니다.\n",
      "안녕하세요, 저는 파이썬대학교의 AI 학생 김민지입니다.\n"
     ]
    }
   ],
   "source": [
    "class Student: #모든 학생이 다니는 학교 이름\n",
    "    school_name = \"코딩대학교\"\n",
    "\n",
    "    def __init__(self, name:str, major:str):\n",
    "        self.name = name\n",
    "        self.major = major\n",
    "\n",
    "    \n",
    "    \n",
    "    @classmethod\n",
    "    def change_school(cls, new_name:str):\n",
    "        cls.school_name = new_name\n",
    "\n",
    "    @staticmethod\n",
    "    def is_valid_major(major:str) -> bool :\n",
    "        return len(major) >= 2\n",
    "\n",
    "    def introduce(self):\n",
    "        print(f\"안녕하세요, 저는 {Student.school_name}의 {self.major} 학생 {self.name}입니다.\")\n",
    "\n",
    "\n",
    "# 객체 생성\n",
    "s1 = Student(\"홍길동\", \"컴퓨터공학과\")\n",
    "s2 = Student(\"김민지\", \"AI\")\n",
    "\n",
    "# 클래스 메서드 사용\n",
    "Student.change_school(\"파이썬대학교\")\n",
    "\n",
    "# 정적 메서드 사용\n",
    "print(Student.is_valid_major(\"수학\"))  # True\n",
    "print(Student.is_valid_major(\"수\"))    # False\n",
    "\n",
    "# 소개 출력\n",
    "s1.introduce()\n",
    "s2.introduce()\n",
    "\n"
   ]
  },
  {
   "cell_type": "code",
   "execution_count": null,
   "id": "d3c72f5d",
   "metadata": {},
   "outputs": [],
   "source": []
  }
 ],
 "metadata": {
  "kernelspec": {
   "display_name": "Python 3",
   "language": "python",
   "name": "python3"
  },
  "language_info": {
   "codemirror_mode": {
    "name": "ipython",
    "version": 3
   },
   "file_extension": ".py",
   "mimetype": "text/x-python",
   "name": "python",
   "nbconvert_exporter": "python",
   "pygments_lexer": "ipython3",
   "version": "3.13.2"
  }
 },
 "nbformat": 4,
 "nbformat_minor": 5
}
