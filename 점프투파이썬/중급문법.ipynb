{
 "cells": [
  {
   "cell_type": "markdown",
   "id": "f749f7c3",
   "metadata": {},
   "source": [
    "# 집합(set)\n",
    "- 중복을 허용하지 않고, 순서가 x 데이터 구조"
   ]
  },
  {
   "cell_type": "code",
   "execution_count": null,
   "id": "ccc1141a",
   "metadata": {},
   "outputs": [
    {
     "name": "stdout",
     "output_type": "stream",
     "text": [
      "{1, 2, 3, 4, 5}\n"
     ]
    }
   ],
   "source": [
    "\n",
    "my_set = {1,2,3,3,4,5} # 중복된 원소가 있으면 알아서 제거해서 저장됨.\n",
    "print(my_set)\n",
    "# 순서가 없어서 인덱싱이 불가능하다."
   ]
  },
  {
   "cell_type": "markdown",
   "id": "d16a77f9",
   "metadata": {},
   "source": [
    "## 메서드\n",
    "- set1.add(x) : 요소 추가\n",
    "- set1.remove(x) : 요소 제거, 없으면 에러 남\n",
    "- set1.discard(x) : 요소 제거, 없으면 무시함\n",
    "- set1.clear() : 모든 요소 제거\n",
    "- set1.union(set2) : 합집합\n",
    "- set1.intersection(set2) : 교집합\n",
    "- set1.difference(set2) : 차집합"
   ]
  },
  {
   "cell_type": "code",
   "execution_count": null,
   "id": "a1ad310b",
   "metadata": {},
   "outputs": [
    {
     "name": "stdout",
     "output_type": "stream",
     "text": [
      "{1, 2, 3, 4, 5}\n"
     ]
    }
   ],
   "source": [
    "# 문제1\n",
    "data = [1, 2, 2, 3, 4, 4, 5]\n",
    "data = set(data)\n",
    "print(data)"
   ]
  },
  {
   "cell_type": "code",
   "execution_count": 6,
   "id": "9609f2b0",
   "metadata": {},
   "outputs": [
    {
     "name": "stdout",
     "output_type": "stream",
     "text": [
      "{4, 5}\n"
     ]
    }
   ],
   "source": [
    "# 문제2\n",
    "list1 = [1, 2, 3, 4, 5]\n",
    "list2 = [4, 5, 6, 7]\n",
    "\n",
    "set1 = set(list1)\n",
    "set2 = set(list2)\n",
    "\n",
    "set_common = set1.intersection(set2)\n",
    "\n",
    "print(set_common)\n"
   ]
  },
  {
   "cell_type": "code",
   "execution_count": 8,
   "id": "47cb4da6",
   "metadata": {},
   "outputs": [
    {
     "name": "stdout",
     "output_type": "stream",
     "text": [
      "{1, 3, 4, 5, 6, 7}\n",
      "{1, 7}\n",
      "{3, 5}\n"
     ]
    }
   ],
   "source": [
    "a = {1, 3, 5, 7}\n",
    "b = {3, 4, 5, 6}\n",
    "\n",
    "print(a.union(b))\n",
    "print(a.difference(b))\n",
    "print(a.intersection(b))\n"
   ]
  },
  {
   "cell_type": "markdown",
   "id": "340c3b24",
   "metadata": {},
   "source": [
    "# comprehension(컴프리헨션)\n",
    "- [표현식 for 변수 in 반복가능한객체 if 조건]"
   ]
  },
  {
   "cell_type": "code",
   "execution_count": 9,
   "id": "b33774c0",
   "metadata": {},
   "outputs": [
    {
     "name": "stdout",
     "output_type": "stream",
     "text": [
      "[0, 1, 4, 9, 16, 25, 36, 49, 64, 81]\n"
     ]
    }
   ],
   "source": [
    "squares = [x**2 for x in range(10)]\n",
    "print(squares)"
   ]
  },
  {
   "cell_type": "code",
   "execution_count": 10,
   "id": "8d6c9ed3",
   "metadata": {},
   "outputs": [
    {
     "name": "stdout",
     "output_type": "stream",
     "text": [
      "[0, 4, 16, 36, 64]\n"
     ]
    }
   ],
   "source": [
    "even_squares = [x**2 for x in range(10) if x % 2 == 0]\n",
    "print(even_squares)"
   ]
  },
  {
   "cell_type": "code",
   "execution_count": 11,
   "id": "37c02124",
   "metadata": {},
   "outputs": [
    {
     "name": "stdout",
     "output_type": "stream",
     "text": [
      "[3, 6, 9, 12, 15, 18]\n"
     ]
    }
   ],
   "source": [
    "# 문제 1\n",
    "# 1부터 20까지의 숫자 중 3의 배수만 리스트로 만들어보세요. (리스트 컴프리헨션 사용)\n",
    "multi_3 = [x for x in range(1,21) if x % 3 == 0]\n",
    "print(multi_3)"
   ]
  },
  {
   "cell_type": "code",
   "execution_count": null,
   "id": "ea6e5434",
   "metadata": {},
   "outputs": [
    {
     "name": "stdout",
     "output_type": "stream",
     "text": [
      "{}\n"
     ]
    }
   ],
   "source": [
    "# 문제2\n",
    "# 다음 리스트에서 단어의 길이를 key로 하고, 단어를 value로 하는 딕셔너리를 만들어보세요.\n",
    "# 단, 길이가 같은 단어는 가장 먼저 등장하는 단어만 포함되도록 하세요.\n",
    "words = [\"hi\", \"hello\", \"world\", \"sun\", \"code\"]\n",
    "d = {}\n",
    "for i in words:\n",
    "    if f'{len(i)}' not in d:\n",
    "        d[f'{len(i)}'] = i\n",
    "        print(d)\n",
    "\n",
    "# 컴프리헨션으로 풀기 좋지 않음. d를 만드는 동시에 d를 참조해야해서.\n"
   ]
  },
  {
   "cell_type": "code",
   "execution_count": 27,
   "id": "32b17b10",
   "metadata": {},
   "outputs": [
    {
     "name": "stdout",
     "output_type": "stream",
     "text": [
      "{'grape', 'banana', 'avocado', 'apple'} <class 'set'>\n"
     ]
    }
   ],
   "source": [
    "#문제3\n",
    "# 이 리스트에서\n",
    "\n",
    "# 길이 5 이상\n",
    "\n",
    "# 모두 소문자로 변환\n",
    "\n",
    "# 중복 제거\n",
    "\n",
    "# 된 집합을 만들어보세요!\n",
    "words = [\"Apple\", \"Banana\", \"kiwi\", \"Avocado\", \"GRAPE\", \"Fig\", \"Banana\"]\n",
    "\n",
    "over_five = set([x.lower() for x in words if len(x)>=5])\n",
    "print(over_five, type(over_five))\n",
    "\n"
   ]
  },
  {
   "cell_type": "markdown",
   "id": "c7795eb6",
   "metadata": {},
   "source": [
    "# lambda 함수\n",
    "- lambda 매개변수: 표현식\n"
   ]
  },
  {
   "cell_type": "code",
   "execution_count": null,
   "id": "82c33a8f",
   "metadata": {},
   "outputs": [
    {
     "name": "stdout",
     "output_type": "stream",
     "text": [
      "7\n",
      "3\n"
     ]
    }
   ],
   "source": [
    "# 문제1\n",
    "\n",
    "\n",
    "diff = lambda a,b : a-b if a > b else b-a\n",
    "    \n",
    "print(diff(10, 3))  # 7\n",
    "print(diff(2, 5))   # 3\n"
   ]
  },
  {
   "cell_type": "code",
   "execution_count": 2,
   "id": "4a6be329",
   "metadata": {},
   "outputs": [
    {
     "name": "stdout",
     "output_type": "stream",
     "text": [
      "Hello\n",
      "Python\n"
     ]
    }
   ],
   "source": [
    "# 문제 2\n",
    "# 문자열을 입력받아 앞글자만 대문자로 바꿔주는 람다 함수를 만들어보세요.\n",
    "cap = lambda s : s.capitalize() \n",
    "\n",
    "print(cap(\"hello\"))  # \"Hello\"\n",
    "print(cap(\"python\")) # \"Python\"\n"
   ]
  },
  {
   "cell_type": "markdown",
   "id": "2ce162cd",
   "metadata": {},
   "source": [
    "# 함수 고급 문법 *args **kwargs"
   ]
  },
  {
   "cell_type": "code",
   "execution_count": 7,
   "id": "edbf1cf7",
   "metadata": {},
   "outputs": [
    {
     "name": "stdout",
     "output_type": "stream",
     "text": [
      "안녕! 수지\n",
      "안녕하세요 철수 \n"
     ]
    }
   ],
   "source": [
    "# 문제 1\n",
    "# 기본값 인자를 활용해, 이름을 인자로 받고\n",
    "# 인사가 없으면 \"안녕하세요\"로 출력하는 함수를 만들어보세요.\n",
    "\n",
    "def greet (*args):\n",
    "    if len(args) == 1 :\n",
    "        print(f\"안녕하세요 {args[0]} \")\n",
    "    else:\n",
    "        print(f'{args[1]} {args[0]}')\n",
    "    \n",
    "    \n",
    "# 예시\n",
    "greet(\"수지\", \"안녕!\")\n",
    "greet(\"철수\") \n",
    "\n",
    "\n"
   ]
  },
  {
   "cell_type": "code",
   "execution_count": 11,
   "id": "3258f4bf",
   "metadata": {},
   "outputs": [
    {
     "name": "stdout",
     "output_type": "stream",
     "text": [
      "20.0\n",
      "10.0\n"
     ]
    }
   ],
   "source": [
    "# 문제2\n",
    "def average(*args):\n",
    "    avg = sum(args)/len(args)\n",
    "    print(avg)\n",
    "\n",
    "average(10, 20, 30)\n",
    "average(5, 15)    \n"
   ]
  },
  {
   "cell_type": "code",
   "execution_count": null,
   "id": "09520c97",
   "metadata": {},
   "outputs": [
    {
     "name": "stdout",
     "output_type": "stream",
     "text": [
      "\n",
      "          상품_총액 = 15000\n",
      "          세금 = 1500.0\n",
      "          팁 = 1000\n",
      "          최종_결제_금액 : 17500.0\n"
     ]
    }
   ],
   "source": [
    "# 문제 : 영수증 만들기 함수\n",
    "def receipt(*args, **kwargs):\n",
    "    상품_총액 = sum(args)\n",
    "    세금 = 상품_총액 * kwargs[\"tax\"]\n",
    "    팁 = kwargs[\"tip\"]\n",
    "    최종_결제_금액 = 상품_총액 + 세금 + 팁\n",
    "    print(f'''\n",
    "          상품_총액 = {sum(args)}\n",
    "          세금 = {상품_총액 * kwargs[\"tax\"]}\n",
    "          팁 = {kwargs[\"tip\"]}\n",
    "          최종_결제_금액 : {상품_총액 + 세금 + 팁}''')\n",
    "\n",
    "\n",
    "\n",
    "\n",
    "\n",
    "\n",
    "receipt(10000, 2000, 3000, tax=0.1, tip=1000)\n",
    "# 출력 예시:\n",
    "# 상품 총액: 15000\n",
    "# 세금: 1500\n",
    "# 팁: 1000\n",
    "# 최종 결제 금액: 17500\n"
   ]
  },
  {
   "cell_type": "code",
   "execution_count": 15,
   "id": "d2b37d2c",
   "metadata": {},
   "outputs": [
    {
     "name": "stdout",
     "output_type": "stream",
     "text": [
      "Hyundai\n",
      "black\n"
     ]
    }
   ],
   "source": [
    "# get()\n",
    "car = {\n",
    "    \"brand\": \"Hyundai\",\n",
    "    \"year\": 2020\n",
    "}\n",
    "print(car.get(\"brand\"))\n",
    "print(car.get(\"color\",\"black\"))"
   ]
  },
  {
   "cell_type": "markdown",
   "id": "9cbf9c48",
   "metadata": {},
   "source": [
    "# 클래스와 객체짛향 프로그래밍 기초"
   ]
  },
  {
   "cell_type": "code",
   "execution_count": 19,
   "id": "15813986",
   "metadata": {},
   "outputs": [
    {
     "name": "stdout",
     "output_type": "stream",
     "text": [
      "책 제목 : <냉장고를 부탁해>, 저자 : <최강록>\n"
     ]
    }
   ],
   "source": [
    " # 문제\n",
    "\n",
    "class Book:\n",
    "    def __init__(self,title,author):\n",
    "        self.title = title\n",
    "        self.author = author\n",
    "\n",
    "    def info(self):\n",
    "        print(f'책 제목 : <{self.title}>, 저자 : <{self.author}>')\n",
    "\n",
    "a = Book(\"냉장고를 부탁해\",\"최강록\")\n",
    "a.info()\n",
    "\n"
   ]
  },
  {
   "cell_type": "code",
   "execution_count": 22,
   "id": "9b53ecfe",
   "metadata": {},
   "outputs": [
    {
     "name": "stdout",
     "output_type": "stream",
     "text": [
      "책 제목 : <파이썬 기초 마스터하기>, 저자 : <홍길동>\n",
      "긴 제목입니다.\n"
     ]
    }
   ],
   "source": [
    "# 문제\n",
    "class Book:\n",
    "    def __init__(self,title,author):\n",
    "        self.title = title\n",
    "        self.author = author\n",
    "\n",
    "    def info(self):\n",
    "        print(f'책 제목 : <{self.title}>, 저자 : <{self.author}>')\n",
    "    \n",
    "    def is_long(self):\n",
    "        if len(self.title) >= 10 :\n",
    "            print(\"긴 제목입니다.\")\n",
    "        else:\n",
    "            print(\"짧은 제목입니다.\")\n",
    "\n",
    "\n",
    "\n",
    "a = Book(\"파이썬 기초 마스터하기\", \"홍길동\")\n",
    "a.info()\n",
    "a.is_long()  # 긴 제목입니다.\n"
   ]
  },
  {
   "cell_type": "markdown",
   "id": "78914139",
   "metadata": {},
   "source": [
    "# 클래스 심화 : 객체지향 개념 + 파이썬 문법"
   ]
  },
  {
   "cell_type": "code",
   "execution_count": 5,
   "id": "81ff9ae9",
   "metadata": {},
   "outputs": [
    {
     "name": "stdout",
     "output_type": "stream",
     "text": [
      "학생 이름 : 민수\n",
      "학번: 202301\n",
      "학교 : 코딩고등학교\n"
     ]
    }
   ],
   "source": [
    "# 실습\n",
    "class Student:\n",
    "    school_name = \"코딩고등학교\"\n",
    "\n",
    "    def __init__(self, name, id_num):\n",
    "        self.name = name\n",
    "        self.id_num = id_num\n",
    "\n",
    "    def introduce(self):\n",
    "        print(f\"학생 이름 : {self.name}\")\n",
    "        print(f\"학번: {self.id_num}\")\n",
    "        print(f\"학교 : {Student.school_name}\")\n",
    "\n",
    "p = Student(\"민수\",202301)\n",
    "p.introduce()"
   ]
  },
  {
   "cell_type": "markdown",
   "id": "556bd981",
   "metadata": {},
   "source": [
    "### 클래스 메서드, 정적 메서드 "
   ]
  },
  {
   "cell_type": "code",
   "execution_count": 17,
   "id": "a9232a5e",
   "metadata": {},
   "outputs": [
    {
     "name": "stdout",
     "output_type": "stream",
     "text": [
      "총 학생 수 : 1\n",
      "총 학생 수 : 2\n",
      "안녕하세요, 저는 지민이고 1학년입니다.\n",
      "안녕하세요, 저는 수지이고 2학년입니다.\n",
      "학생 수가 초기화되었습니다.\n",
      "0\n"
     ]
    }
   ],
   "source": [
    "class Student:\n",
    "    school_name = \"코딩고등학교\"\n",
    "    student_count = 0\n",
    "\n",
    "    def __init__(self,name, grade):\n",
    "        self.name = name\n",
    "        self.grade = grade\n",
    "        Student.student_count += 1\n",
    "        print(f\"총 학생 수 : {Student.student_count}\")\n",
    "    \n",
    "    def introduce(self):\n",
    "        print(f\"안녕하세요, 저는 {self.name}이고 {self.grade}학년입니다.\")\n",
    "    \n",
    "    @ classmethod\n",
    "    def reset_count(cls):\n",
    "        cls.student_count = 0\n",
    "        print(\"학생 수가 초기화되었습니다.\")\n",
    "\n",
    "s1 = Student(\"지민\", 1)\n",
    "s2 = Student(\"수지\", 2)\n",
    "\n",
    "s1.introduce()\n",
    "s2.introduce()\n",
    "\n",
    "Student.reset_count()\n",
    "print(Student.student_count)\n",
    "\n",
    "\n",
    "\n",
    "    "
   ]
  },
  {
   "cell_type": "markdown",
   "id": "e5fce4b7",
   "metadata": {},
   "source": [
    "# \\_\\_str\\_\\_() 메서드\n"
   ]
  },
  {
   "cell_type": "code",
   "execution_count": 19,
   "id": "1b0fca00",
   "metadata": {},
   "outputs": [
    {
     "name": "stdout",
     "output_type": "stream",
     "text": [
      "책 제목: 파이썬\n"
     ]
    }
   ],
   "source": [
    "class Book:\n",
    "    def __init__(self, title):\n",
    "        self.title = title\n",
    "\n",
    "    def __str__(self):\n",
    "        return f\"책 제목: {self.title}\"\n",
    "\n",
    "b = Book(\"파이썬\")\n",
    "print(b)\n",
    "\n"
   ]
  },
  {
   "cell_type": "markdown",
   "id": "c1757689",
   "metadata": {},
   "source": [
    "# 상속(inheritance)"
   ]
  },
  {
   "cell_type": "code",
   "execution_count": 22,
   "id": "353d98b3",
   "metadata": {},
   "outputs": [
    {
     "name": "stdout",
     "output_type": "stream",
     "text": [
      "동물이 소리를 냅니다.\n",
      "멍멍!\n",
      "야옹!\n"
     ]
    }
   ],
   "source": [
    "# 문제\n",
    "\n",
    "class Animal():\n",
    "    def __init__(self):\n",
    "        pass\n",
    "        \n",
    "\n",
    "    def speak(self):\n",
    "        print(\"동물이 소리를 냅니다.\")\n",
    "\n",
    "class Dog(Animal):\n",
    "    def speak(self):\n",
    "        print(\"멍멍!\")\n",
    "\n",
    "class Cat(Animal):\n",
    "    def speak(self):\n",
    "        print(\"야옹!\")\n",
    "\n",
    "\n",
    "\n",
    "\n",
    "a = Animal()\n",
    "a.speak()  # 동물이 소리를 냅니다.\n",
    "\n",
    "d = Dog()\n",
    "d.speak()  # 멍멍!\n",
    "\n",
    "c = Cat()\n",
    "c.speak()  # 야옹~\n"
   ]
  },
  {
   "cell_type": "markdown",
   "id": "a9e6385c",
   "metadata": {},
   "source": [
    "### super() : 자식 클래스에서 부모의 클래스의 메서드를 그대로  쓰거나 확장하고 싶을 때."
   ]
  },
  {
   "cell_type": "code",
   "execution_count": 31,
   "id": "6c31e2fe",
   "metadata": {},
   "outputs": [
    {
     "name": "stdout",
     "output_type": "stream",
     "text": [
      "\n",
      "              이름 : 민수\n",
      "              나이 : 18\n",
      "              학교 : 코딩고등학교\n"
     ]
    }
   ],
   "source": [
    "class Person:\n",
    "    \n",
    "    def __init__(self, name, age):\n",
    "        self.name = name\n",
    "        self.age = age\n",
    "            \n",
    "\n",
    "class Student(Person):\n",
    "    def __init__(self, name, age, school):\n",
    "        super().__init__(name,age)\n",
    "        self.school = school\n",
    "\n",
    "    def introduce(self):\n",
    "        print(f\"\"\"\n",
    "              이름 : {self.name}\n",
    "              나이 : {self.age}\n",
    "              학교 : {self.school}\"\"\")\n",
    "    \n",
    "m = Student(\"민수\",18,\"코딩고등학교\")\n",
    "m.introduce()"
   ]
  },
  {
   "cell_type": "markdown",
   "id": "570e0d6c",
   "metadata": {},
   "source": [
    "# 파이썬 내장 함수"
   ]
  },
  {
   "cell_type": "markdown",
   "id": "f61c23fb",
   "metadata": {},
   "source": [
    "## 1단계\n",
    "len()\n",
    "\n",
    "type()\n",
    "\n",
    "max(), min()\n",
    "\n",
    "sum()\n",
    "\n",
    "sorted()\n",
    "\n",
    "enumerate()"
   ]
  },
  {
   "cell_type": "code",
   "execution_count": 33,
   "id": "3110e8e6",
   "metadata": {},
   "outputs": [
    {
     "name": "stdout",
     "output_type": "stream",
     "text": [
      "100\n",
      "70\n",
      "430\n",
      "86.0\n"
     ]
    }
   ],
   "source": [
    "# 문제 1\n",
    "scores = [80, 95, 70, 100, 85]\n",
    "\n",
    "print(max(scores))\n",
    "print(min(scores))\n",
    "print(sum(scores))\n",
    "print(sum(scores)/len(scores))"
   ]
  },
  {
   "cell_type": "code",
   "execution_count": 34,
   "id": "a26a126b",
   "metadata": {},
   "outputs": [
    {
     "name": "stdout",
     "output_type": "stream",
     "text": [
      "0 : 철수\n",
      "1 : 영희\n",
      "2 : 민수\n"
     ]
    }
   ],
   "source": [
    "# 문제 2\n",
    "name =['철수', '영희', '민수']\n",
    "\n",
    "for i,n in enumerate(name):\n",
    "    print(f'{i} : {n}')"
   ]
  },
  {
   "cell_type": "markdown",
   "id": "7c6b5a6d",
   "metadata": {},
   "source": [
    "# 2단계\n",
    "zip() : 여러 리스트를 묶어주는 함수\n",
    "\n",
    "map() : 리스트에 함수를 적용\n",
    "\n",
    "filter() : 조건에 맞는 값만 걸러냄\n",
    "\n",
    "any() / all() : 조건 검사 (참/거짓)\n",
    "\n",
    "reversed() : 뒤집기"
   ]
  },
  {
   "cell_type": "code",
   "execution_count": 2,
   "id": "bbc54ef5",
   "metadata": {},
   "outputs": [
    {
     "name": "stdout",
     "output_type": "stream",
     "text": [
      "준수 - 중간고사 : 85, 기말고사 : 88\n",
      "하늘 - 중간고사 : 90, 기말고사 : 92\n",
      "예진 - 중간고사 : 80, 기말고사 : 84\n"
     ]
    }
   ],
   "source": [
    "# zip()\n",
    "students = [\"준수\", \"하늘\", \"예진\"]\n",
    "midterm = [85, 90, 80]\n",
    "final = [88, 92, 84]\n",
    "\n",
    "for s,m,f in zip(students,midterm, final):\n",
    "    print(f\"{s} - 중간고사 : {m}, 기말고사 : {f}\")\n",
    "\n"
   ]
  },
  {
   "cell_type": "code",
   "execution_count": 7,
   "id": "73ed2b84",
   "metadata": {},
   "outputs": [
    {
     "name": "stdout",
     "output_type": "stream",
     "text": [
      "['JISOO', 'ROSE', 'LISA', 'JENNIE']\n"
     ]
    }
   ],
   "source": [
    "# map()\n",
    "names = [\"jisoo\", \"rose\", \"lisa\", \"jennie\"]\n",
    "\n",
    "uppered = map(str.upper,names)\n",
    "print(list(uppered))"
   ]
  },
  {
   "cell_type": "code",
   "execution_count": 10,
   "id": "bddf416e",
   "metadata": {},
   "outputs": [
    {
     "name": "stdout",
     "output_type": "stream",
     "text": [
      "['하늘', '예진']\n"
     ]
    }
   ],
   "source": [
    "#filter()\n",
    "\n",
    "names = [\"준수\", \"하늘\", \"예진\", \"수민\"]\n",
    "scores = [85, 92, 90, 88]\n",
    "\n",
    "# 이름과 점수를 묶어서, 점수가 90 이상인 항목만 필터링\n",
    "filtered = filter(lambda x: x[1] >= 90, zip(names, scores))\n",
    "\n",
    "# 이름만 뽑아서 리스트로 만들기\n",
    "result = [name for name, score in filtered]\n",
    "\n",
    "print(result)  # ['하늘', '예진']\n",
    "\n"
   ]
  },
  {
   "cell_type": "code",
   "execution_count": 15,
   "id": "a108437b",
   "metadata": {},
   "outputs": [
    {
     "name": "stdout",
     "output_type": "stream",
     "text": [
      "[3, 6, 9, 12]\n",
      "['apple', 'cherry', 'egg']\n"
     ]
    }
   ],
   "source": [
    "# filter() 추가 문제\n",
    "numbers = [1, 2, 3, 4, 5, 6, 7, 8, 9, 10, 12]\n",
    "\n",
    "multi_3 = filter(lambda x : x %3 == 0,numbers)\n",
    "print(list(multi_3))\n",
    "\n",
    "\n",
    "words = [\"apple\", \"Banana\", \"cherry\", \"DATE\", \"egg\"]\n",
    "lowered = filter(str.islower,words)\n",
    "print(list(lowered))"
   ]
  },
  {
   "cell_type": "markdown",
   "id": "f3148882",
   "metadata": {},
   "source": [
    "## any(), all() 함수\n",
    "- 리스트와 같이 반복 가능한 자료형 안의 값들이\n",
    "- 참인지 거짓인지 검사할 떄 사용\n",
    "\n",
    "- any ()\n",
    "+ 하나라도 참 ==> True\n",
    "+ 모두 거짓 ==> False\n",
    "\n",
    "- all()\n",
    "+ 모두 참 ==> True\n",
    "+ 하나라도 거짓 ==> False"
   ]
  },
  {
   "cell_type": "code",
   "execution_count": 3,
   "id": "a1630586",
   "metadata": {},
   "outputs": [
    {
     "name": "stdout",
     "output_type": "stream",
     "text": [
      "True\n",
      "True\n"
     ]
    }
   ],
   "source": [
    "# 실습\n",
    "scores = [85, 90, 78, 92] \n",
    "\n",
    "print(all(score >= 70 for score in scores))\n",
    "print(any(score < 90 for score in scores))\n"
   ]
  },
  {
   "cell_type": "markdown",
   "id": "7fdf0926",
   "metadata": {},
   "source": [
    "## reversed()"
   ]
  },
  {
   "cell_type": "code",
   "execution_count": 9,
   "id": "d84ec277",
   "metadata": {},
   "outputs": [
    {
     "name": "stdout",
     "output_type": "stream",
     "text": [
      "[50, 40, 30, 20, 10]\n",
      "dlroW olleH\n"
     ]
    }
   ],
   "source": [
    "# 실습\n",
    "nums = [10, 20, 30, 40, 50]\n",
    "rev = list(reversed(nums))\n",
    "rev_s=reversed(\"Hello World\")\n",
    "\n",
    "print(rev)\n",
    "print(\"\".join(rev_s))"
   ]
  },
  {
   "cell_type": "markdown",
   "id": "fff46fcf",
   "metadata": {},
   "source": [
    "# datetime 모듈"
   ]
  },
  {
   "cell_type": "code",
   "execution_count": 16,
   "id": "2a423998",
   "metadata": {},
   "outputs": [
    {
     "name": "stdout",
     "output_type": "stream",
     "text": [
      "2025년 04월 11일\n",
      "2025-04-01 15:30:00\n",
      "2025-04-08\n",
      "12:33:23\n"
     ]
    }
   ],
   "source": [
    "#1\n",
    "from datetime import datetime,timedelta\n",
    "kst_now = datetime.now()\n",
    "print(kst_now.strftime(\"%Y년 %m월 %d일\"))\n",
    "\n",
    "#2\n",
    "str_date = \"2025-04-01 15:30\"\n",
    "dt = datetime.strptime(str_date, \"%Y-%m-%d %H:%M\")\n",
    "print(dt)\n",
    "\n",
    "#3\n",
    "three_days = timedelta(days=3)\n",
    "three = kst_now - three_days\n",
    "print(three.date())\n",
    "print(three.time().strftime(\"%H:%M:%S\"))\n",
    "\n",
    "\n"
   ]
  },
  {
   "cell_type": "code",
   "execution_count": 17,
   "id": "482f0287",
   "metadata": {},
   "outputs": [
    {
     "name": "stdout",
     "output_type": "stream",
     "text": [
      "2025-04-11 12:40:14.614471\n",
      "None\n"
     ]
    }
   ],
   "source": [
    "# 연습코드\n",
    "from datetime import datetime\n",
    "now = datetime.now()\n",
    "print(now)\n",
    "print(now.tzinfo)"
   ]
  },
  {
   "cell_type": "code",
   "execution_count": 18,
   "id": "d88e4cb3",
   "metadata": {},
   "outputs": [
    {
     "name": "stdout",
     "output_type": "stream",
     "text": [
      "2025-04-11 03:41:05.097979+00:00\n",
      "UTC\n"
     ]
    }
   ],
   "source": [
    "from datetime import datetime, timezone\n",
    "utc_now = datetime.now(timezone.utc)\n",
    "print(utc_now)\n",
    "print(utc_now.tzinfo)"
   ]
  },
  {
   "cell_type": "code",
   "execution_count": 19,
   "id": "d4f6a052",
   "metadata": {},
   "outputs": [
    {
     "name": "stdout",
     "output_type": "stream",
     "text": [
      "2025-04-11 12:44:45.386321+09:00\n"
     ]
    }
   ],
   "source": [
    "from datetime import timezone,timedelta\n",
    "\n",
    "KST = timezone(timedelta(hours=9))\n",
    "kst_now = datetime.now(KST)\n",
    "\n",
    "print(kst_now)"
   ]
  },
  {
   "cell_type": "code",
   "execution_count": 20,
   "id": "b15fcbd6",
   "metadata": {},
   "outputs": [
    {
     "name": "stdout",
     "output_type": "stream",
     "text": [
      "UTC :  2025-04-11 03:47:58.414371+00:00\n",
      "KST :  2025-04-11 12:47:58.414371+09:00\n"
     ]
    }
   ],
   "source": [
    "from datetime import datetime, timezone, timedelta\n",
    "\n",
    "KST = timezone(timedelta(hours=9))\n",
    "\n",
    "utc_now = datetime.now(timezone.utc)\n",
    "print(\"UTC : \",utc_now)\n",
    "\n",
    "kst_time = utc_now.astimezone(KST)\n",
    "print(\"KST : \", kst_time)"
   ]
  },
  {
   "cell_type": "code",
   "execution_count": null,
   "id": "8c295567",
   "metadata": {},
   "outputs": [],
   "source": [
    "# 점투파 : 표준 라이브러리\n",
    "\n"
   ]
  }
 ],
 "metadata": {
  "kernelspec": {
   "display_name": "Python 3",
   "language": "python",
   "name": "python3"
  },
  "language_info": {
   "codemirror_mode": {
    "name": "ipython",
    "version": 3
   },
   "file_extension": ".py",
   "mimetype": "text/x-python",
   "name": "python",
   "nbconvert_exporter": "python",
   "pygments_lexer": "ipython3",
   "version": "3.13.2"
  }
 },
 "nbformat": 4,
 "nbformat_minor": 5
}
